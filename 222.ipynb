{
  "nbformat": 4,
  "nbformat_minor": 0,
  "metadata": {
    "kernelspec": {
      "display_name": "Python 3",
      "language": "python",
      "name": "python3"
    },
    "language_info": {
      "codemirror_mode": {
        "name": "ipython",
        "version": 3
      },
      "file_extension": ".py",
      "mimetype": "text/x-python",
      "name": "python",
      "nbconvert_exporter": "python",
      "pygments_lexer": "ipython3",
      "version": "3.7.6"
    },
    "colab": {
      "name": "222.ipynb",
      "provenance": [],
      "include_colab_link": true
    }
  },
  "cells": [
    {
      "cell_type": "markdown",
      "metadata": {
        "id": "view-in-github",
        "colab_type": "text"
      },
      "source": [
        "<a href=\"https://colab.research.google.com/github/virbickt/aers/blob/master/222.ipynb\" target=\"_parent\"><img src=\"https://colab.research.google.com/assets/colab-badge.svg\" alt=\"Open In Colab\"/></a>"
      ]
    },
    {
      "cell_type": "markdown",
      "metadata": {
        "id": "e03B_FiyQ05P"
      },
      "source": [
        "# Module 2: Data Engineering\n",
        "## Sprint 2: SQL and Data Scraping\n",
        "## Subproject 2: More hands on SQL"
      ]
    },
    {
      "cell_type": "markdown",
      "metadata": {
        "id": "jxf9DnyMQ05Y"
      },
      "source": [
        "In the last lesson you got familiar with SQL. You created tables and wrote basic queries. During the lesson we will take a closer look into technical part of SQL. You will learn how to create and host your own database. You will know how to use Python to connect to database and send SQL queries to retrieve information. We will also talk about strong and weak points of SQL databases."
      ]
    },
    {
      "cell_type": "markdown",
      "metadata": {
        "id": "T3Rv9YsUQ05Z"
      },
      "source": [
        "## Learning outcomes\n",
        "- You will know how to use PostgreSQL databases\n",
        "- You will be able to set up external databases hosted by Heroku\n",
        "- You will be able to query SQL databases using Python"
      ]
    },
    {
      "cell_type": "markdown",
      "metadata": {
        "id": "kXaA1NNSQ05a"
      },
      "source": [
        "---"
      ]
    },
    {
      "cell_type": "markdown",
      "metadata": {
        "id": "8m8Fy9U_Q05a"
      },
      "source": [
        "## Relational databases in depth\n",
        "In the last lesson you went through a crash course of SQL. In this lesson you have an opportunity to take a deeper look into this subject by watching [Advanced SQL course | SQL tutorial advanced](https://www.youtube.com/watch?v=2Fn0WAyZV0E&ab_channel=Geek%27sLesson) video. You will not be required to prove your newly gained knowledge in the exercises but the knowledge will open more opportunities for you as a data engineer. As it is quite impossible to become databases expert in only two days, you will have to learn about certain parts of this topic yourself. It can be a side project or an internship in a company that provide you an opportunities to fully showcase your SQL skills as the main strong points of relational databases are only revealed at scale. Below is a list of topics that you should learn and provided learning material sources:\n",
        "* [Functions](https://www.studytonight.com/dbms/sql-function.php)\n",
        "* [Stored Procedures](https://www.w3schools.com/sql/sql_stored_procedures.asp)\n",
        "* [Hierarchical Queries](https://docs.oracle.com/cd/B19306_01/server.102/b14200/queries003.htm)\n",
        "* [Dynamic SQL](https://docs.oracle.com/cd/A87860_01/doc/appdev.817/a76939/adg09dyn.htm)\n",
        "* [Data Modelling](https://afteracademy.com/blog/what-is-data-model-in-dbms-and-what-are-its-types): Normal Forms, 1 through 3\n",
        "* [Isolation Levels](https://www.geeksforgeeks.org/transaction-isolation-levels-dbms/) and [Transactions](https://www.geeksforgeeks.org/sql-transactions/)  "
      ]
    },
    {
      "cell_type": "markdown",
      "metadata": {
        "id": "tsN-mM8tQ05b"
      },
      "source": [
        "You should visit each topic individually as you fill find tons of information that cannot be summarized into one day lesson. All of the provided topics are important and should not be ignored but as mentioned before they are advanced SQL level topics so you should not feel overwhelmed by not being able to fully understand them as the actual usage of provided resources in practice can only be applied at scale. "
      ]
    },
    {
      "cell_type": "markdown",
      "metadata": {
        "id": "EGUX2hpSQ05c"
      },
      "source": [
        "## PostgreSQL\n",
        "The main topic of this lesson is the creation of an actual working database. You will be working with PostgreSQL relational database. So why Postgre? In the relational database world there are many big players that you can choose from: MySQL, PostgreSQL, OracleSQL and many more. For individual use, usually differences are really minor but for companies there are many things to consider before choosing one. To better understand this topic, you need to watch [this video](https://www.youtube.com/watch?v=WzfDLqt-WIg&ab_channel=Socratica) that in TLDR format explains differences between the databases. In comparison with MySQL or MariaDB, Postgres has these strong points:\n",
        "\n",
        "* Better Data Integrity\n",
        "* Better Licensing\n",
        "* JSON Support and NoSQL\n",
        "* Sub queries work better\n",
        "\n",
        "Of course, Postgres has its own weaknesses too. So you will need to choose database case by case but for this lesson, you will work with it."
      ]
    },
    {
      "cell_type": "markdown",
      "metadata": {
        "id": "lhzK4z94Q05c"
      },
      "source": [
        "### Hosting PostgreSQL database\n",
        "As you need a machine with pre-installed database software, you will need to use free tool that enables you to create and initialize your own database. You will need to register at [https://id.heroku.com/login](https://id.heroku.com/login). After, you should go and create new app: \n",
        "<div>\n",
        "<img src=\"https://i.imgur.com/qjUGLcQ.png\" width=\"400px\"/>  \n",
        "</div>\n",
        "Select Europe as the region and then give an unique name to your project:  \n",
        "<div>\n",
        "<img src=\"https://i.imgur.com/IKtNVXL.png\" width=\"400px\"/>  \n",
        "</div>\n",
        "After creation of the project you should go to `Resources` tab and  add `Heroku Postgres` add-on to your project.  \n",
        "<div>\n",
        "<img src=\"https://i.imgur.com/SoozILw.png\" width=\"400px\"/> \n",
        "</div>\n",
        "<div>\n",
        "<img src=\"https://i.imgur.com/Ssuzyfn.png\" width=\"400px\"/>  \n",
        "</div>\n",
        "<div>\n",
        "<img src=\"https://i.imgur.com/oUpOvPD.png\" width=\"400px\"/> \n",
        " </div>\n",
        " <div>\n",
        "<img src=\"https://i.imgur.com/yKo8emB.png\" width=\"400px\"/>  \n",
        "</div>\n",
        "After add-on initialization, go to its page and select `Setting` tab where you will see database's credentials:\n",
        "<div>\n",
        "<img src=\"https://i.imgur.com/rB45aho.png\" width=\"600px\"/>  \n",
        "</div>"
      ]
    },
    {
      "cell_type": "markdown",
      "metadata": {
        "id": "cM8j4RLIQ05d"
      },
      "source": [
        "### Using Python with PostgreSQL\n",
        "Now we are able to use hosted database using Python. First we need to install `psycopg2` to our environment:"
      ]
    },
    {
      "cell_type": "code",
      "metadata": {
        "colab": {
          "base_uri": "https://localhost:8080/"
        },
        "id": "zIljd7DhQ05e",
        "outputId": "49926d31-bbc8-4da4-cdcb-2ba4502cb896"
      },
      "source": [
        "!pip install psycopg2"
      ],
      "execution_count": 1,
      "outputs": [
        {
          "output_type": "stream",
          "text": [
            "Requirement already satisfied: psycopg2 in /usr/local/lib/python3.7/dist-packages (2.7.6.1)\n"
          ],
          "name": "stdout"
        }
      ]
    },
    {
      "cell_type": "markdown",
      "metadata": {
        "id": "xWZQj0-uQ05f"
      },
      "source": [
        "To connect to the database we have to simply use `psycopg2` connect function and the use the initiated connection to work with the remote database. You will have to provide credentials provided by Heroku Postgres:"
      ]
    },
    {
      "cell_type": "code",
      "metadata": {
        "colab": {
          "base_uri": "https://localhost:8080/"
        },
        "id": "M1fFDF8aQ05g",
        "outputId": "ab592699-3207-4abb-90c2-7230100b96d3"
      },
      "source": [
        "import psycopg2\n",
        "\n",
        "connection = psycopg2.connect(\n",
        "    database=\"d2um6otg4v2pm3\",\n",
        "    user=\"fmgauhpimwfroe\",\n",
        "    password=\"65af21f95b59505bb24bdc779cdb5122e61bfd36a35591f0cc876794015c2ea5\",\n",
        "    host=\"ec2-54-155-35-88.eu-west-1.compute.amazonaws.com\",\n",
        "    port=\"5432\"\n",
        ")\n",
        "\n",
        "connection"
      ],
      "execution_count": 2,
      "outputs": [
        {
          "output_type": "stream",
          "text": [
            "/usr/local/lib/python3.7/dist-packages/psycopg2/__init__.py:144: UserWarning: The psycopg2 wheel package will be renamed from release 2.8; in order to keep installing from binary please use \"pip install psycopg2-binary\" instead. For details see: <http://initd.org/psycopg/docs/install.html#binary-install-from-pypi>.\n",
            "  \"\"\")\n"
          ],
          "name": "stderr"
        },
        {
          "output_type": "execute_result",
          "data": {
            "text/plain": [
              "<connection object at 0x7fab5cdd2cd0; dsn: 'user=fmgauhpimwfroe password=xxx dbname=d2um6otg4v2pm3 host=ec2-54-155-35-88.eu-west-1.compute.amazonaws.com port=5432', closed: 0>"
            ]
          },
          "metadata": {
            "tags": []
          },
          "execution_count": 2
        }
      ]
    },
    {
      "cell_type": "markdown",
      "metadata": {
        "id": "pZnEZbLkQ05g"
      },
      "source": [
        "Now that we have the connection let's create same `users` and `cards` tables from the last lesson. We will need to create `cursor` from the connection and then execute `SQL` commands:"
      ]
    },
    {
      "cell_type": "code",
      "metadata": {
        "id": "H0ZMFHjKQ05g"
      },
      "source": [
        "cur = connection.cursor()\n",
        "\n",
        "cur.execute('''\n",
        "CREATE TABLE users (\n",
        "    id serial PRIMARY KEY,\n",
        "    fullName varchar(255),\n",
        "    cardId int\n",
        ");\n",
        "''')\n",
        "\n",
        "\n",
        "cur.execute('''\n",
        "CREATE TABLE cards (\n",
        "    id serial PRIMARY KEY,\n",
        "    userId int,\n",
        "    lastUsedDate date\n",
        ");\n",
        "''')\n",
        "\n",
        "cur.execute('''\n",
        "ALTER TABLE users ADD FOREIGN KEY (cardId) REFERENCES cards(id);\n",
        "ALTER TABLE cards ADD FOREIGN KEY (userId) REFERENCES users(id);\n",
        "INSERT INTO users(fullName) VALUES('Peter Parker');\n",
        "INSERT INTO cards(userid, lastuseddate) VALUES(1, '2020-01-01');\n",
        "UPDATE users SET cardId = 1 WHERE id = 1;\n",
        "''')\n",
        "\n",
        "connection.commit()"
      ],
      "execution_count": 3,
      "outputs": []
    },
    {
      "cell_type": "markdown",
      "metadata": {
        "id": "yET1yEjzQ05h"
      },
      "source": [
        "You can check the data inside tables by using `execute` and `fetchall` functions:"
      ]
    },
    {
      "cell_type": "code",
      "metadata": {
        "colab": {
          "base_uri": "https://localhost:8080/"
        },
        "id": "m4yz8CNVQ05h",
        "outputId": "7199375b-3c35-418f-e923-73e1937d1bc3"
      },
      "source": [
        "cur.execute(\"SELECT * FROM users\")\n",
        "rows = cur.fetchall()\n",
        "\n",
        "for row in rows:\n",
        "    print(f\"id: {row[0]}, fullName: {row[1]}, cardId: {row[2]}\")"
      ],
      "execution_count": 4,
      "outputs": [
        {
          "output_type": "stream",
          "text": [
            "id: 1, fullName: Peter Parker, cardId: 1\n"
          ],
          "name": "stdout"
        }
      ]
    },
    {
      "cell_type": "markdown",
      "metadata": {
        "id": "1HQb2HjQQ05i"
      },
      "source": [
        "### Exercise\n",
        "Now that you know how to use `psycopg2` you should create same two tables `books` and `authors` from last lesson. You will need to insert same data and make same queries."
      ]
    },
    {
      "cell_type": "code",
      "metadata": {
        "id": "Z8oEP776Sp8b"
      },
      "source": [
        "cur.execute(\r\n",
        "    '''\r\n",
        "    CREATE TABLE authors (\r\n",
        "        id serial PRIMARY KEY,\r\n",
        "        fullname VARCHAR\r\n",
        "    );\r\n",
        "    '''\r\n",
        ")\r\n",
        "\r\n",
        "cur.execute(\r\n",
        "    '''\r\n",
        "    CREATE TABLE books (\r\n",
        "        id serial PRIMARY KEY,\r\n",
        "        title VARCHAR,\r\n",
        "        authorid INT\r\n",
        "    );\r\n",
        "    '''\r\n",
        ")"
      ],
      "execution_count": 5,
      "outputs": []
    },
    {
      "cell_type": "code",
      "metadata": {
        "id": "mREn_zxcTQ8X"
      },
      "source": [
        "cur.execute(\r\n",
        "    '''\r\n",
        "    INSERT INTO authors \r\n",
        "    VALUES (\r\n",
        "            1,\r\n",
        "            'J. K. Rowling'\r\n",
        "            ),\r\n",
        "            (\r\n",
        "            2,\r\n",
        "            'Mary Shelley'\r\n",
        "            ),\r\n",
        "            (\r\n",
        "            3,\r\n",
        "            'Suzanne Collins'\r\n",
        "            );\r\n",
        "    '''\r\n",
        ")"
      ],
      "execution_count": 8,
      "outputs": []
    },
    {
      "cell_type": "markdown",
      "metadata": {
        "id": "GUcOXVWxQ05i"
      },
      "source": [
        "Write Python code in a the cell above for tests below to pass."
      ]
    },
    {
      "cell_type": "code",
      "metadata": {
        "id": "W9CtIMXGQ05i"
      },
      "source": [
        "### GET LIST OF ALL AUTHORS\n",
        "cur.execute(\"SELECT * FROM authors;\")\n",
        "authors = cur.fetchall()\n",
        "\n",
        "assert len(authors) == 3\n",
        "assert authors[0][1] == \"J. K. Rowling\"\n",
        "\n",
        "### GET LIST OF ALL BOOKS\n",
        "cur.execute(\"SELECT * FROM books;\")\n",
        "books = cur.fetchall()\n",
        "\n",
        "assert len(books) == 8\n",
        "assert books[1][1] == \"Chamber of Secrets\"\n",
        "\n",
        "### GET LIST OF BOOKS WITH AUTHORS ATTACHED\n",
        "cur.execute(\"SELECT books.id, books.title, authors.fullname FROM books LEFT JOIN authors ON books.authorid = authors.id;\")\n",
        "books = cur.fetchall()\n",
        "\n",
        "assert len(books) == 8\n",
        "assert books[1][1] == \"Chamber of Secrets\"\n",
        "assert books[1][2] == \"J. K. Rowling\"\n",
        "\n",
        "### GET COUNT OF BOOKS WRITTEN BY AUTHOR\n",
        "cur.execute(\"SELECT authors.fullname as author, COUNT(authors.fullname) as books_count FROM books LEFT JOIN authors ON books.authorid = authors.id GROUP BY authors.fullname;\")\n",
        "books_count = cur.fetchall()\n",
        "\n",
        "assert len(books_count) == 3\n",
        "assert books_count[1][0] == \"J. K. Rowling\"\n",
        "assert books_count[1][1] == 5"
      ],
      "execution_count": null,
      "outputs": []
    },
    {
      "cell_type": "markdown",
      "metadata": {
        "id": "xIS9JJvUQ05j"
      },
      "source": [
        "## SQL - when it does not work?\n",
        "For the last two days you were learning about relational databases and SQL. You should know that SQL works really well when you have structured data and need to perform multiple data collection manipulations. Parts where SQL lacks are search and optimized document storage. For these specific cases Not Only SQL is used. There are many different types of NoSQL databases. If every SQL database (MySQL, Oracle SQL, PostgreSQL) are familiar, NoSQL world is more diverse and every database has its own specific use cases. Let's talk about most popular ones and where and why they are used. But before that you should watch [more general overview](https://www.youtube.com/watch?v=ruz-vK8IesE&ab_channel=BeABetterDev) of the NoSQL world."
      ]
    },
    {
      "cell_type": "markdown",
      "metadata": {
        "id": "-PvOGV8NQ05j"
      },
      "source": [
        "## MongoDB\n",
        "MongoDB is the most used SQL alternative. As Mongo is the most universal and flexible NoSQL database. The biggest advantage of it is scalability. As the data is stored in documents and not in the individual tables, there is no need for joins, which can get quite expensive when working with huge tables full of records. Search is also more optimized in MongoDB. You should take a look into [official documentation](https://www.mongodb.com/nosql-explained) and watch [this](https://www.youtube.com/watch?v=EE8ZTQxa0AM&ab_channel=MongoDB) 5 min. video that covers all basic aspects of the database. You can also watch a [comparison](https://www.youtube.com/watch?v=ZS_kXvOeQ5Y&ab_channel=Academind) made between SQL and NoSQl when talking about MySQL vs MongoDB case."
      ]
    },
    {
      "cell_type": "markdown",
      "metadata": {
        "id": "7lSa3qUaQ05j"
      },
      "source": [
        "## Cassandra\n",
        "Cassandra is mostly used when working with time series data and key-value storage. Because of unique database structure Cassandra can perform queries instantly and return huge numbers of data in a matter of moment. You should read about Cassandra in [this TLDR](https://www.credera.com/insights/cassandra-explained-5-minutes-less/). You should also watch [this](https://www.youtube.com/watch?v=iDhIjrJ7hG0&ab_channel=edureka%21) video that explains Cassandra more in-depth."
      ]
    },
    {
      "cell_type": "markdown",
      "metadata": {
        "id": "-6QmYwd3Q05l"
      },
      "source": [
        "## Redis\n",
        "Redis is mostly used when talking about caching and quick data retrieval. Redis is also widely used in applications where some kind of live counting is needed (for example leaderboards). You should read [blog post](https://www.ibm.com/cloud/learn/redis) created by IBM and learn about most popular use cases and specific data types. [Here](https://www.youtube.com/watch?v=Hbt56gFj998&ab_channel=TraversyMedia) is also amazing video that covers most popular Redis use cases and provides practical approach to them."
      ]
    },
    {
      "cell_type": "markdown",
      "metadata": {
        "id": "jHEZFlxaQ05l"
      },
      "source": [
        "## Exercise\n",
        "For this lesson you will have to transfer Tesla factory to hosted PostrgeSQL database. You will need to use Python `psycopg2` client for this task. As in the last lesson you had to provide screeshots with outputs, now you will need to provide python code. You have to create these tables:\n",
        "```\n",
        "| Models            |\n",
        "|-------------------|\n",
        "| Id serial         |\n",
        "| ModelName varchar |\n",
        "| Range int         |\n",
        "\n",
        "| Cars              |\n",
        "|-------------------|\n",
        "| Id serial         |\n",
        "| ModelId int       |\n",
        "| PlateNo varchar   |\n",
        "\n",
        "| Owners         |\n",
        "|----------------|\n",
        "| Id serial      |\n",
        "| FullName       |\n",
        "| PersonalId int |\n",
        "\n",
        "| OwnerCars   |\n",
        "|-------------|\n",
        "| CarId int   |\n",
        "| OwnerId int |\n",
        "\n",
        "```\n",
        "\n",
        "You will need to add 3 records to `Models` table, 10 records to `Owners` table and `15` records to `Cars table`. All cars should be assigned to an owner. One owner can have more than 1 car.\n",
        "\n",
        "1. Create new application on Heroku and add Postgres ad-on to it\n",
        "2. Initialize connection to the database and create required tables using `psycopg2`\n",
        "3. Write code to successfully run these queries:\n",
        "* List all `Models`\n",
        "* List all `Cars`\n",
        "* List all `Users`\n",
        "* Return count of grouped cars by model\n",
        "* Return count of grouped cars by owner\n",
        "* Return owner that owns most cars\n",
        "* Return average number of cars owners own\n",
        "* Return list of cars with owners `FullName` attached\n",
        "4. Put all your code to the python file. Do not forget to document your code."
      ]
    },
    {
      "cell_type": "markdown",
      "metadata": {
        "id": "kbWsTqCXQ05l"
      },
      "source": [
        "---"
      ]
    },
    {
      "cell_type": "markdown",
      "metadata": {
        "id": "4-TzgEA-Q05m"
      },
      "source": [
        "## Summary\n",
        "Now you know how to create your own database using Heroku and PostgreSQL. From this point, you will be able to store your data in external resources. This skill will let you create more functional and powerful applications. Most importantly, now you should understand how relational databases work in practice. For a future data scientist these skills are really valuable."
      ]
    },
    {
      "cell_type": "markdown",
      "metadata": {
        "id": "WU6Nl_ckQ05m"
      },
      "source": [
        "---"
      ]
    },
    {
      "cell_type": "code",
      "metadata": {
        "id": "ZykwWwo2Q05m"
      },
      "source": [
        ""
      ],
      "execution_count": null,
      "outputs": []
    }
  ]
}