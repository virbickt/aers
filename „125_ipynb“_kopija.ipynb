{
  "nbformat": 4,
  "nbformat_minor": 0,
  "metadata": {
    "kernelspec": {
      "display_name": "Python 3",
      "language": "python",
      "name": "python3"
    },
    "language_info": {
      "codemirror_mode": {
        "name": "ipython",
        "version": 3
      },
      "file_extension": ".py",
      "mimetype": "text/x-python",
      "name": "python",
      "nbconvert_exporter": "python",
      "pygments_lexer": "ipython3",
      "version": "3.7.6"
    },
    "colab": {
      "name": "„125.ipynb“ kopija",
      "provenance": [],
      "toc_visible": true,
      "include_colab_link": true
    }
  },
  "cells": [
    {
      "cell_type": "markdown",
      "metadata": {
        "id": "view-in-github",
        "colab_type": "text"
      },
      "source": [
        "<a href=\"https://colab.research.google.com/github/virbickt/aers/blob/master/%E2%80%9E125_ipynb%E2%80%9C_kopija.ipynb\" target=\"_parent\"><img src=\"https://colab.research.google.com/assets/colab-badge.svg\" alt=\"Open In Colab\"/></a>"
      ]
    },
    {
      "cell_type": "markdown",
      "metadata": {
        "id": "LrYNhG739TEz"
      },
      "source": [
        "# Module 1: Data Science Fundamentals"
      ]
    },
    {
      "cell_type": "markdown",
      "metadata": {
        "id": "dHWGY-TW9TFD"
      },
      "source": [
        "## Sprint 2: Statistical Tests and Experiments"
      ]
    },
    {
      "cell_type": "markdown",
      "metadata": {
        "id": "WghVnfpD9TFE"
      },
      "source": [
        "## Let's analyse Udacity A/B test!"
      ]
    },
    {
      "cell_type": "markdown",
      "metadata": {
        "id": "fnmMxGmw9TFE"
      },
      "source": [
        "<div><img style=\"height: 350px;\" src=\"https://upload.wikimedia.org/wikipedia/commons/3/3b/Udacity_logo.png\" /></div>"
      ]
    },
    {
      "cell_type": "markdown",
      "metadata": {
        "id": "Tq3p3ojC9TFF"
      },
      "source": [
        "## Background"
      ]
    },
    {
      "cell_type": "markdown",
      "metadata": {
        "id": "KpHAntk-9TFF"
      },
      "source": [
        "For the last day of this sprint, we are analyzing once run, online Udacity A/B test results! The dataset is part of the Udacity Google's A/B testing course, which we have watched a couple of lessons from in Subproject 2 of this sprint."
      ]
    },
    {
      "cell_type": "markdown",
      "metadata": {
        "id": "RV605HTI9TFG"
      },
      "source": [
        "Data is available at https://docs.google.com/spreadsheets/d/1Mu5u9GrybDdska-ljPXyBjTpdZIUev_6i7t4LRDfXM8/edit#gid=0"
      ]
    },
    {
      "cell_type": "markdown",
      "metadata": {
        "id": "PXp8kTbB9TFG"
      },
      "source": [
        "---------"
      ]
    },
    {
      "cell_type": "markdown",
      "metadata": {
        "id": "1U2mGzQQ9TFG"
      },
      "source": [
        "## How to start?"
      ]
    },
    {
      "cell_type": "markdown",
      "metadata": {
        "id": "FUyWz2WE9TFH"
      },
      "source": [
        "The data consists of two sheets, each for different group of the test. Download the sheets as CSVs and union them to form 1 dataset."
      ]
    },
    {
      "cell_type": "markdown",
      "metadata": {
        "id": "Onn2PgXipD3Q"
      },
      "source": [
        "## Confidence interval for click-through rate"
      ]
    },
    {
      "cell_type": "markdown",
      "metadata": {
        "id": "PWWSdiMFpNZY"
      },
      "source": [
        "In order to find the confidence interval for click-through rate, we follow a four-step approach (as in [stattrek.com/estimation/difference-in-proportions](https://stattrek.com/estimation/difference-in-proportions.aspx?tutorial=AP)):\r\n",
        "\r\n",
        "\r\n",
        "1.   Identify the sample statistic.\r\n",
        "2.   Find the margin of error.\r\n",
        "3.   Specify the confidence interval."
      ]
    },
    {
      "cell_type": "markdown",
      "metadata": {
        "id": "vX8g7ySWqQ2I"
      },
      "source": [
        "### 1. Sample statistic"
      ]
    },
    {
      "cell_type": "markdown",
      "metadata": {
        "id": "wsicUOBdqWBP"
      },
      "source": [
        "We are interested in the population proportion of those who click on the link shown on the website to those who visit the website. However, as usual we have no access to the data on the proportion of the population. \r\n",
        "\r\n",
        "Therefore, we try to estimate the difference by choosing the difference in click-through-rates between two sample proportions, i. e. *click-through rate in control group* and *click-through rate in treatment group*, as the sample statistic.  "
      ]
    },
    {
      "cell_type": "markdown",
      "metadata": {
        "id": "sBqj71zasgP6"
      },
      "source": [
        "#### Uploading the dataset"
      ]
    },
    {
      "cell_type": "markdown",
      "metadata": {
        "id": "vR31ikNpsmNG"
      },
      "source": [
        "First, we upload the datasets for control group and treatment as `control` and `treatment` respectively."
      ]
    },
    {
      "cell_type": "code",
      "metadata": {
        "id": "yQxv-21_AMMo"
      },
      "source": [
        "import pandas as pd\r\n",
        "\r\n",
        "control = pd.read_csv('/content/control.csv')\r\n",
        "treatment = pd.read_csv('/content/experiment.csv')"
      ],
      "execution_count": null,
      "outputs": []
    },
    {
      "cell_type": "markdown",
      "metadata": {
        "id": "NKk--QFPtQ6m"
      },
      "source": [
        "In what follows we will be summing up the values for `Pageviews` and `Clicks`. For the purposes of readability we use the following trick: \r\n",
        "\r\n",
        "1.   Make a seperate column named `group` and add 'control' as values in each row.\r\n",
        "2.   Simultaneously, group the values by this newly created column and sum up both the `Pageviews` and `Clicks` among the period of testing using `agg()` method. \r\n",
        "\r\n",
        "Note: although we name the column in the table that results the same way as they were named in the original, these columns store the sum total and not the values for each of the days as in the original dataset."
      ]
    },
    {
      "cell_type": "code",
      "metadata": {
        "id": "PsXFeVswukVa"
      },
      "source": [
        "control['group'] = 'control'\r\n",
        "\r\n",
        "agg1 = control.groupby('group').agg(pageviews=('Pageviews', 'sum'), clicks=('Clicks', 'sum'))"
      ],
      "execution_count": null,
      "outputs": []
    },
    {
      "cell_type": "code",
      "metadata": {
        "id": "kfO1xOsEbpNT",
        "colab": {
          "base_uri": "https://localhost:8080/",
          "height": 195
        },
        "outputId": "53b430d7-6ffb-4168-bc93-9275f4801b4d"
      },
      "source": [
        "control.head()"
      ],
      "execution_count": null,
      "outputs": [
        {
          "output_type": "execute_result",
          "data": {
            "text/html": [
              "<div>\n",
              "<style scoped>\n",
              "    .dataframe tbody tr th:only-of-type {\n",
              "        vertical-align: middle;\n",
              "    }\n",
              "\n",
              "    .dataframe tbody tr th {\n",
              "        vertical-align: top;\n",
              "    }\n",
              "\n",
              "    .dataframe thead th {\n",
              "        text-align: right;\n",
              "    }\n",
              "</style>\n",
              "<table border=\"1\" class=\"dataframe\">\n",
              "  <thead>\n",
              "    <tr style=\"text-align: right;\">\n",
              "      <th></th>\n",
              "      <th>Date</th>\n",
              "      <th>Pageviews</th>\n",
              "      <th>Clicks</th>\n",
              "      <th>Enrollments</th>\n",
              "      <th>Payments</th>\n",
              "      <th>group</th>\n",
              "    </tr>\n",
              "  </thead>\n",
              "  <tbody>\n",
              "    <tr>\n",
              "      <th>0</th>\n",
              "      <td>Sat, Oct 11</td>\n",
              "      <td>7723</td>\n",
              "      <td>687</td>\n",
              "      <td>134.0</td>\n",
              "      <td>70.0</td>\n",
              "      <td>control</td>\n",
              "    </tr>\n",
              "    <tr>\n",
              "      <th>1</th>\n",
              "      <td>Sun, Oct 12</td>\n",
              "      <td>9102</td>\n",
              "      <td>779</td>\n",
              "      <td>147.0</td>\n",
              "      <td>70.0</td>\n",
              "      <td>control</td>\n",
              "    </tr>\n",
              "    <tr>\n",
              "      <th>2</th>\n",
              "      <td>Mon, Oct 13</td>\n",
              "      <td>10511</td>\n",
              "      <td>909</td>\n",
              "      <td>167.0</td>\n",
              "      <td>95.0</td>\n",
              "      <td>control</td>\n",
              "    </tr>\n",
              "    <tr>\n",
              "      <th>3</th>\n",
              "      <td>Tue, Oct 14</td>\n",
              "      <td>9871</td>\n",
              "      <td>836</td>\n",
              "      <td>156.0</td>\n",
              "      <td>105.0</td>\n",
              "      <td>control</td>\n",
              "    </tr>\n",
              "    <tr>\n",
              "      <th>4</th>\n",
              "      <td>Wed, Oct 15</td>\n",
              "      <td>10014</td>\n",
              "      <td>837</td>\n",
              "      <td>163.0</td>\n",
              "      <td>64.0</td>\n",
              "      <td>control</td>\n",
              "    </tr>\n",
              "  </tbody>\n",
              "</table>\n",
              "</div>"
            ],
            "text/plain": [
              "          Date  Pageviews  Clicks  Enrollments  Payments    group\n",
              "0  Sat, Oct 11       7723     687        134.0      70.0  control\n",
              "1  Sun, Oct 12       9102     779        147.0      70.0  control\n",
              "2  Mon, Oct 13      10511     909        167.0      95.0  control\n",
              "3  Tue, Oct 14       9871     836        156.0     105.0  control\n",
              "4  Wed, Oct 15      10014     837        163.0      64.0  control"
            ]
          },
          "metadata": {
            "tags": []
          },
          "execution_count": 5
        }
      ]
    },
    {
      "cell_type": "markdown",
      "metadata": {
        "id": "mQjGopbFumwm"
      },
      "source": [
        "The result looks as follows:"
      ]
    },
    {
      "cell_type": "code",
      "metadata": {
        "colab": {
          "base_uri": "https://localhost:8080/",
          "height": 106
        },
        "id": "Mo5YrqQJNhkm",
        "outputId": "0d3c0d23-c900-43fe-995a-523e42bf69b3"
      },
      "source": [
        "agg1"
      ],
      "execution_count": null,
      "outputs": [
        {
          "output_type": "execute_result",
          "data": {
            "text/html": [
              "<div>\n",
              "<style scoped>\n",
              "    .dataframe tbody tr th:only-of-type {\n",
              "        vertical-align: middle;\n",
              "    }\n",
              "\n",
              "    .dataframe tbody tr th {\n",
              "        vertical-align: top;\n",
              "    }\n",
              "\n",
              "    .dataframe thead th {\n",
              "        text-align: right;\n",
              "    }\n",
              "</style>\n",
              "<table border=\"1\" class=\"dataframe\">\n",
              "  <thead>\n",
              "    <tr style=\"text-align: right;\">\n",
              "      <th></th>\n",
              "      <th>pageviews</th>\n",
              "      <th>clicks</th>\n",
              "    </tr>\n",
              "    <tr>\n",
              "      <th>group</th>\n",
              "      <th></th>\n",
              "      <th></th>\n",
              "    </tr>\n",
              "  </thead>\n",
              "  <tbody>\n",
              "    <tr>\n",
              "      <th>control</th>\n",
              "      <td>345543</td>\n",
              "      <td>28378</td>\n",
              "    </tr>\n",
              "  </tbody>\n",
              "</table>\n",
              "</div>"
            ],
            "text/plain": [
              "         pageviews  clicks\n",
              "group                     \n",
              "control     345543   28378"
            ]
          },
          "metadata": {
            "tags": []
          },
          "execution_count": 6
        }
      ]
    },
    {
      "cell_type": "markdown",
      "metadata": {
        "id": "phknek0fvL_G"
      },
      "source": [
        "Let us pull the same trick on the dataset `treatment`:"
      ]
    },
    {
      "cell_type": "code",
      "metadata": {
        "colab": {
          "base_uri": "https://localhost:8080/",
          "height": 106
        },
        "id": "8nRn3LneenMk",
        "outputId": "00b2a12b-e70f-407e-b244-65c83bf6a9a9"
      },
      "source": [
        "treatment['group'] = 'treatment'\r\n",
        "\r\n",
        "agg2 = treatment.groupby('group').agg(pageviews=('Pageviews', 'sum'), clicks=('Clicks', 'sum'))\r\n",
        "\r\n",
        "agg2"
      ],
      "execution_count": null,
      "outputs": [
        {
          "output_type": "execute_result",
          "data": {
            "text/html": [
              "<div>\n",
              "<style scoped>\n",
              "    .dataframe tbody tr th:only-of-type {\n",
              "        vertical-align: middle;\n",
              "    }\n",
              "\n",
              "    .dataframe tbody tr th {\n",
              "        vertical-align: top;\n",
              "    }\n",
              "\n",
              "    .dataframe thead th {\n",
              "        text-align: right;\n",
              "    }\n",
              "</style>\n",
              "<table border=\"1\" class=\"dataframe\">\n",
              "  <thead>\n",
              "    <tr style=\"text-align: right;\">\n",
              "      <th></th>\n",
              "      <th>pageviews</th>\n",
              "      <th>clicks</th>\n",
              "    </tr>\n",
              "    <tr>\n",
              "      <th>group</th>\n",
              "      <th></th>\n",
              "      <th></th>\n",
              "    </tr>\n",
              "  </thead>\n",
              "  <tbody>\n",
              "    <tr>\n",
              "      <th>treatment</th>\n",
              "      <td>344660</td>\n",
              "      <td>28325</td>\n",
              "    </tr>\n",
              "  </tbody>\n",
              "</table>\n",
              "</div>"
            ],
            "text/plain": [
              "           pageviews  clicks\n",
              "group                       \n",
              "treatment     344660   28325"
            ]
          },
          "metadata": {
            "tags": []
          },
          "execution_count": 7
        }
      ]
    },
    {
      "cell_type": "markdown",
      "metadata": {
        "id": "NtnAU8ULvZQO"
      },
      "source": [
        "We now proceed to merging the aggregated datasets."
      ]
    },
    {
      "cell_type": "code",
      "metadata": {
        "colab": {
          "base_uri": "https://localhost:8080/",
          "height": 106
        },
        "id": "Wo5KtZTEe9ng",
        "outputId": "e09ed730-0e3c-46f1-f4cb-ef4767e1b9e8"
      },
      "source": [
        "data = pd.merge(agg1, agg2, how='outer')\r\n",
        "data"
      ],
      "execution_count": null,
      "outputs": [
        {
          "output_type": "execute_result",
          "data": {
            "text/html": [
              "<div>\n",
              "<style scoped>\n",
              "    .dataframe tbody tr th:only-of-type {\n",
              "        vertical-align: middle;\n",
              "    }\n",
              "\n",
              "    .dataframe tbody tr th {\n",
              "        vertical-align: top;\n",
              "    }\n",
              "\n",
              "    .dataframe thead th {\n",
              "        text-align: right;\n",
              "    }\n",
              "</style>\n",
              "<table border=\"1\" class=\"dataframe\">\n",
              "  <thead>\n",
              "    <tr style=\"text-align: right;\">\n",
              "      <th></th>\n",
              "      <th>pageviews</th>\n",
              "      <th>clicks</th>\n",
              "    </tr>\n",
              "  </thead>\n",
              "  <tbody>\n",
              "    <tr>\n",
              "      <th>0</th>\n",
              "      <td>345543</td>\n",
              "      <td>28378</td>\n",
              "    </tr>\n",
              "    <tr>\n",
              "      <th>1</th>\n",
              "      <td>344660</td>\n",
              "      <td>28325</td>\n",
              "    </tr>\n",
              "  </tbody>\n",
              "</table>\n",
              "</div>"
            ],
            "text/plain": [
              "   pageviews  clicks\n",
              "0     345543   28378\n",
              "1     344660   28325"
            ]
          },
          "metadata": {
            "tags": []
          },
          "execution_count": 32
        }
      ]
    },
    {
      "cell_type": "markdown",
      "metadata": {
        "id": "MxO2oNkpv3Nt"
      },
      "source": [
        " For some reason, the indices get replaced by `0` and `1` for control and treatment group respectively. We therefore replace the indices by the original names of `control` and `treatment`: "
      ]
    },
    {
      "cell_type": "code",
      "metadata": {
        "id": "HqE_bFbuv5kR"
      },
      "source": [
        "index = ['control', 'treatment']\r\n",
        "\r\n",
        "data.index = index\r\n",
        "\r\n",
        "data\r\n",
        "\r\n",
        "data2 = data"
      ],
      "execution_count": null,
      "outputs": []
    },
    {
      "cell_type": "markdown",
      "metadata": {
        "id": "2eUduBdHwEM2"
      },
      "source": [
        "Now we're in a position to find the sample statistic, i. e. the difference in sample proportions in click-through-rates. Let us refer to sample proportions as *conversion rates* from now on. The conversion rate is given by:\r\n",
        "\r\n",
        "$\\hat{p} = \\frac{\\mathrm{clicks}}{\\mathrm{pageviews}}$"
      ]
    },
    {
      "cell_type": "markdown",
      "metadata": {
        "id": "sLJdhoOGwf6a"
      },
      "source": [
        "We find the conversion rates for both control and treatment groups by using `.apply()`method together with `lambda` function."
      ]
    },
    {
      "cell_type": "code",
      "metadata": {
        "colab": {
          "base_uri": "https://localhost:8080/",
          "height": 106
        },
        "id": "4eVKRqmzfUZw",
        "outputId": "1adf823c-ab49-4b85-e747-e702e58023e8"
      },
      "source": [
        "data['conversion_rate'] = data[['pageviews', 'clicks']].apply(\r\n",
        "    lambda x: x[1] / x[0], axis=1\r\n",
        ")\r\n",
        "\r\n",
        "data"
      ],
      "execution_count": null,
      "outputs": [
        {
          "output_type": "execute_result",
          "data": {
            "text/html": [
              "<div>\n",
              "<style scoped>\n",
              "    .dataframe tbody tr th:only-of-type {\n",
              "        vertical-align: middle;\n",
              "    }\n",
              "\n",
              "    .dataframe tbody tr th {\n",
              "        vertical-align: top;\n",
              "    }\n",
              "\n",
              "    .dataframe thead th {\n",
              "        text-align: right;\n",
              "    }\n",
              "</style>\n",
              "<table border=\"1\" class=\"dataframe\">\n",
              "  <thead>\n",
              "    <tr style=\"text-align: right;\">\n",
              "      <th></th>\n",
              "      <th>pageviews</th>\n",
              "      <th>clicks</th>\n",
              "      <th>conversion_rate</th>\n",
              "    </tr>\n",
              "  </thead>\n",
              "  <tbody>\n",
              "    <tr>\n",
              "      <th>control</th>\n",
              "      <td>345543</td>\n",
              "      <td>28378</td>\n",
              "      <td>0.082126</td>\n",
              "    </tr>\n",
              "    <tr>\n",
              "      <th>treatment</th>\n",
              "      <td>344660</td>\n",
              "      <td>28325</td>\n",
              "      <td>0.082182</td>\n",
              "    </tr>\n",
              "  </tbody>\n",
              "</table>\n",
              "</div>"
            ],
            "text/plain": [
              "           pageviews  clicks  conversion_rate\n",
              "control       345543   28378         0.082126\n",
              "treatment     344660   28325         0.082182"
            ]
          },
          "metadata": {
            "tags": []
          },
          "execution_count": 11
        }
      ]
    },
    {
      "cell_type": "markdown",
      "metadata": {
        "id": "dUcsurSsxDCU"
      },
      "source": [
        "Therefore, our conversion rates are:\r\n",
        "\r\n",
        "$\\hat{p}_{control} = \\frac{\\mathrm{clicks (control)}}{\\mathrm{pageviews (control)}} = \\frac{X_{control}}{n_{control}} = \\frac{28378}{345543} = 8.212\\%$\r\n",
        "\r\n",
        "or conversion rate for control group in percent (proportion of those who clicked to those who visited the website)\r\n",
        "\r\n",
        "$\\hat{p}_{treatment} = \\frac{\\mathrm{clicks (treatment)}}{\\mathrm{pageviews (treatment)}} = \\frac{X_{treatment}}{n_{treatment}} = \\frac{28325}{344660} = 8.218\\%$\r\n",
        "\r\n",
        "or conversion rate for the treatment group in percept."
      ]
    },
    {
      "cell_type": "markdown",
      "metadata": {
        "id": "-Ae7KoSZyTNg"
      },
      "source": [
        "We can finally proceed to find our sample statistic. Let us denote the sample statistic by $\\delta$."
      ]
    },
    {
      "cell_type": "code",
      "metadata": {
        "colab": {
          "base_uri": "https://localhost:8080/"
        },
        "id": "iueuczOqgcl5",
        "outputId": "ee5d5686-7892-496a-dc8b-e1f93bc3f2c0"
      },
      "source": [
        "observed_difference = data['conversion_rate'][1] - data['conversion_rate'][0]\r\n",
        "\r\n",
        "observed_difference * 100"
      ],
      "execution_count": null,
      "outputs": [
        {
          "output_type": "execute_result",
          "data": {
            "text/plain": [
              "0.005662709158693602"
            ]
          },
          "metadata": {
            "tags": []
          },
          "execution_count": 12
        }
      ]
    },
    {
      "cell_type": "markdown",
      "metadata": {
        "id": "68l5l36zyfQB"
      },
      "source": [
        "Hence,\r\n",
        "\r\n",
        "$\\delta = \\hat{p}_{treatment} - \\hat{p}_{control} = 0.082126 - 0.082182 \\approx 0.006\\%$"
      ]
    },
    {
      "cell_type": "markdown",
      "metadata": {
        "id": "sUIQGhtgzUpe"
      },
      "source": [
        "### Margin of error"
      ]
    },
    {
      "cell_type": "markdown",
      "metadata": {
        "id": "P6DoTXPAzd0l"
      },
      "source": [
        "To find the margin of error, we will need to go through two extra steps:\r\n",
        "\r\n",
        "1.   Find the standard error.\r\n",
        "2.   Find the critical value.\r\n"
      ]
    },
    {
      "cell_type": "markdown",
      "metadata": {
        "id": "tdl2TsWB0NyH"
      },
      "source": [
        "Ideally, we would like to find the standard deviation. Since we do not know the population proportions, we cannot compute the standard deviation. Hence, we compute the standard error instead."
      ]
    },
    {
      "cell_type": "code",
      "metadata": {
        "colab": {
          "base_uri": "https://localhost:8080/",
          "height": 106
        },
        "id": "sJuYMSGGhbSH",
        "outputId": "92d95447-97ca-48fb-d5c4-228506152dcd"
      },
      "source": [
        "import math\r\n",
        "\r\n",
        "data['standard_error'] = data[['conversion_rate', 'pageviews']].apply(\r\n",
        "    lambda x: ((x[0] * (1 - x[0])) / x[1]), axis=1\r\n",
        ")\r\n",
        "\r\n",
        "data"
      ],
      "execution_count": null,
      "outputs": [
        {
          "output_type": "execute_result",
          "data": {
            "text/html": [
              "<div>\n",
              "<style scoped>\n",
              "    .dataframe tbody tr th:only-of-type {\n",
              "        vertical-align: middle;\n",
              "    }\n",
              "\n",
              "    .dataframe tbody tr th {\n",
              "        vertical-align: top;\n",
              "    }\n",
              "\n",
              "    .dataframe thead th {\n",
              "        text-align: right;\n",
              "    }\n",
              "</style>\n",
              "<table border=\"1\" class=\"dataframe\">\n",
              "  <thead>\n",
              "    <tr style=\"text-align: right;\">\n",
              "      <th></th>\n",
              "      <th>pageviews</th>\n",
              "      <th>clicks</th>\n",
              "      <th>conversion_rate</th>\n",
              "      <th>standard_error</th>\n",
              "    </tr>\n",
              "  </thead>\n",
              "  <tbody>\n",
              "    <tr>\n",
              "      <th>control</th>\n",
              "      <td>345543</td>\n",
              "      <td>28378</td>\n",
              "      <td>0.082126</td>\n",
              "      <td>2.181528e-07</td>\n",
              "    </tr>\n",
              "    <tr>\n",
              "      <th>treatment</th>\n",
              "      <td>344660</td>\n",
              "      <td>28325</td>\n",
              "      <td>0.082182</td>\n",
              "      <td>2.188490e-07</td>\n",
              "    </tr>\n",
              "  </tbody>\n",
              "</table>\n",
              "</div>"
            ],
            "text/plain": [
              "           pageviews  clicks  conversion_rate  standard_error\n",
              "control       345543   28378         0.082126    2.181528e-07\n",
              "treatment     344660   28325         0.082182    2.188490e-07"
            ]
          },
          "metadata": {
            "tags": []
          },
          "execution_count": 13
        }
      ]
    },
    {
      "cell_type": "markdown",
      "metadata": {
        "id": "P0sT5FeQ1uDw"
      },
      "source": [
        "The standard error for the difference between proportions is given by:\r\n",
        "\r\n",
        "$\\mathrm{SE} = \\sqrt{\\frac{\\hat{p}_{control}(1 - \\hat{p}_{control})}{n_{control}} + \\frac{\\hat{p}_{treatment}(1 - \\hat{p}_{treatment})}{n_{treatment}}}$"
      ]
    },
    {
      "cell_type": "code",
      "metadata": {
        "colab": {
          "base_uri": "https://localhost:8080/"
        },
        "id": "NOjHQKFh2msY",
        "outputId": "c0a7dc27-cfb7-479d-fb61-ddb50b76e2ab"
      },
      "source": [
        "standard_error_for_difference = math.sqrt(data['standard_error'][0] + data['standard_error'][1])\r\n",
        "\r\n",
        "standard_error_for_difference"
      ],
      "execution_count": null,
      "outputs": [
        {
          "output_type": "execute_result",
          "data": {
            "text/plain": [
              "0.0006610610775037591"
            ]
          },
          "metadata": {
            "tags": []
          },
          "execution_count": 14
        }
      ]
    },
    {
      "cell_type": "markdown",
      "metadata": {
        "id": "gf3tiRZ529tl"
      },
      "source": [
        "Hence,\r\n",
        "\r\n",
        "$\\mathrm{SE} = \\sqrt{\\frac{\\hat{p}_{control}(1 - \\hat{p}_{control})}{n_{control}} + \\frac{\\hat{p}_{treatment}(1 - \\hat{p}_{treatment})}{n_{treatment}}} = \\sqrt{\\frac{0.082126  * x}{345543} + \\frac{0.082182 * x}{344660}} \\approx 0.000661$"
      ]
    },
    {
      "cell_type": "markdown",
      "metadata": {
        "id": "nzB4m9PE3qX_"
      },
      "source": [
        "Now, let us find the critical value. In order to do so, first let us compute the alpha for the confidence interval of $95\\%$ which was provided:\r\n",
        "\r\n"
      ]
    },
    {
      "cell_type": "code",
      "metadata": {
        "colab": {
          "base_uri": "https://localhost:8080/"
        },
        "id": "oUxGatDf4EbN",
        "outputId": "8b9e1b42-b4ff-43c1-d4a1-12151e232cfb"
      },
      "source": [
        "alpha = 1 - (95/100)\r\n",
        "\r\n",
        "alpha"
      ],
      "execution_count": null,
      "outputs": [
        {
          "output_type": "execute_result",
          "data": {
            "text/plain": [
              "0.050000000000000044"
            ]
          },
          "metadata": {
            "tags": []
          },
          "execution_count": 15
        }
      ]
    },
    {
      "cell_type": "markdown",
      "metadata": {
        "id": "FthnNpXo4JDL"
      },
      "source": [
        "Hence,\r\n",
        "\r\n",
        "$\\alpha = 1 - (95/100) = 0.05$"
      ]
    },
    {
      "cell_type": "markdown",
      "metadata": {
        "id": "83q_h7ZE4yU8"
      },
      "source": [
        "Since critical value is the z-score having a cumulative probability equal to critical probability, we find the critical probability by:\r\n",
        "\r\n",
        "$p^* = 1 - \\alpha /2$"
      ]
    },
    {
      "cell_type": "code",
      "metadata": {
        "colab": {
          "base_uri": "https://localhost:8080/"
        },
        "id": "boNusEmM5iUc",
        "outputId": "fc4ade8f-6a72-4c0a-b183-9562fa5da015"
      },
      "source": [
        "critical_prob = 1 - alpha / 2\r\n",
        "critical_prob"
      ],
      "execution_count": null,
      "outputs": [
        {
          "output_type": "execute_result",
          "data": {
            "text/plain": [
              "0.975"
            ]
          },
          "metadata": {
            "tags": []
          },
          "execution_count": 19
        }
      ]
    },
    {
      "cell_type": "markdown",
      "metadata": {
        "id": "GOuj2vJb5pko"
      },
      "source": [
        "Hence,\r\n",
        "\r\n",
        "$p^* = 1 - \\alpha/2 = 1 - 0.05/2 = 0.975$"
      ]
    },
    {
      "cell_type": "markdown",
      "metadata": {
        "id": "ZtO-JEle6MUi"
      },
      "source": [
        "Using Normal Distrubution Calculator, we find that our $z$-score is $1.96$. At this point we can finally compute the margin of error which is given by:\r\n",
        "\r\n",
        "$\\mathrm{ME} =$$z$-$\\mathrm{score} * \\mathrm{SE}$ "
      ]
    },
    {
      "cell_type": "code",
      "metadata": {
        "colab": {
          "base_uri": "https://localhost:8080/"
        },
        "id": "A_aS5DGy7vco",
        "outputId": "93d2ce9e-5dbe-4ac3-c219-71211297c623"
      },
      "source": [
        "margin_of_error = 1.96 * standard_error_for_difference\r\n",
        "\r\n",
        "margin_of_error"
      ],
      "execution_count": null,
      "outputs": [
        {
          "output_type": "execute_result",
          "data": {
            "text/plain": [
              "0.0012956797119073678"
            ]
          },
          "metadata": {
            "tags": []
          },
          "execution_count": 20
        }
      ]
    },
    {
      "cell_type": "markdown",
      "metadata": {
        "id": "f9Bp7-RN8XKO"
      },
      "source": [
        "Hence,\r\n",
        "\r\n",
        "$\\mathrm{ME} =$$z$-$\\mathrm{score} * \\mathrm{SE} = 1.96 * 0.00061 \\approx 0.00129$"
      ]
    },
    {
      "cell_type": "markdown",
      "metadata": {
        "id": "QqSs5oBB7jyg"
      },
      "source": [
        "### Confidence interval"
      ]
    },
    {
      "cell_type": "markdown",
      "metadata": {
        "id": "KyFdjcAc8xr-"
      },
      "source": [
        "We are finally in a position to find the confidence interval. The range of the confidence interval is defined by *sample statistic* times *margin of error*, or:\r\n",
        "\r\n",
        "$\\delta \\pm \\mathrm{ME}$"
      ]
    },
    {
      "cell_type": "code",
      "metadata": {
        "colab": {
          "base_uri": "https://localhost:8080/"
        },
        "id": "Amr8iPLU9kuS",
        "outputId": "e851fad1-e758-4adc-90f7-001c7a15b580"
      },
      "source": [
        "conf_interval_upper_bound = observed_difference + margin_of_error\r\n",
        "\r\n",
        "conf_interval_lower_bound = observed_difference - margin_of_error\r\n",
        "\r\n",
        "conf_interval_lower_bound, conf_interval_upper_bound"
      ],
      "execution_count": null,
      "outputs": [
        {
          "output_type": "execute_result",
          "data": {
            "text/plain": [
              "(-0.0012390526203204318, 0.0013523068034943038)"
            ]
          },
          "metadata": {
            "tags": []
          },
          "execution_count": 21
        }
      ]
    },
    {
      "cell_type": "markdown",
      "metadata": {
        "id": "RAsLPrHF9Y2h"
      },
      "source": [
        "In our case, the $95\\%$ confidence interval is:\r\n",
        "\r\n",
        "$0.006 + 0.00129$"
      ]
    },
    {
      "cell_type": "markdown",
      "metadata": {
        "id": "60o23nf1BIzS"
      },
      "source": [
        "Therefore, $95\\%$ confidence interval is $-0.0012$ to $0.00135$. This means that we are $95\\%$ confident that our that the true difference in population proportion is in the range from $-0.0012$ to $0.00135$."
      ]
    },
    {
      "cell_type": "code",
      "metadata": {
        "colab": {
          "base_uri": "https://localhost:8080/",
          "height": 313
        },
        "id": "sgOhW-Lp7fYp",
        "outputId": "23add35f-3355-497b-9d0b-15789827d951"
      },
      "source": [
        "import matplotlib.pyplot as plt\r\n",
        "import matplotlib.ticker as ticker\r\n",
        "\r\n",
        "\r\n",
        "x = [conf_interval_lower_bound, conf_interval_upper_bound]\r\n",
        "y = [0, 0]\r\n",
        "\r\n",
        "fig, ax = plt.subplots()\r\n",
        "ax.plot(x,y)\r\n",
        "plt.axvline(observed_difference,linestyle=':')\r\n",
        "plt.yticks([])\r\n",
        "ax.xaxis.set_major_locator(ticker.MultipleLocator(0.0004))\r\n",
        "plt.title('Confidence interval for 95% confidence level')\r\n",
        "plt.xlabel('Confidence interval (0.006+0.00129)')\r\n",
        "#ax.fill_between(x, conf_interval_lower_bound, conf_interval_lower_bound, color='b', alpha=.1)\r\n"
      ],
      "execution_count": null,
      "outputs": [
        {
          "output_type": "execute_result",
          "data": {
            "text/plain": [
              "Text(0.5, 0, 'Confidence interval (0.006+0.00129)')"
            ]
          },
          "metadata": {
            "tags": []
          },
          "execution_count": 22
        },
        {
          "output_type": "display_data",
          "data": {
            "image/png": "[encoded data removed]",
            "text/plain": [
              "<Figure size 432x288 with 1 Axes>"
            ]
          },
          "metadata": {
            "tags": [],
            "needs_background": "light"
          }
        }
      ]
    },
    {
      "cell_type": "markdown",
      "metadata": {
        "id": "-uKjlRZP9TFH"
      },
      "source": [
        "# Alternative approach"
      ]
    },
    {
      "cell_type": "code",
      "metadata": {
        "id": "bxMpY8ACAm4_"
      },
      "source": [
        "data = pd.merge(control, treatment, how='outer', on='Date', suffixes=(\"_control\", \"_treatment\")).fillna(0)"
      ],
      "execution_count": null,
      "outputs": []
    },
    {
      "cell_type": "markdown",
      "metadata": {
        "id": "YqyEhvgc7iRA"
      },
      "source": [
        "Conversion rate for treatment group (proportion of those who clicked to those who visited the website):\r\n",
        "\r\n",
        "$\\hat{p}_{treatment} = \\frac{\\mathrm{clicks\\_treatment}}{\\mathrm{pageviews\\_treatment}} = \\frac{X_{control}}{n_{control}}$"
      ]
    },
    {
      "cell_type": "markdown",
      "metadata": {
        "id": "IMP1S9cH8UVy"
      },
      "source": [
        "Observed difference:\r\n",
        "\r\n",
        "$\\delta = \\hat{p}_{treatment} - \\hat{p}_{control}$"
      ]
    },
    {
      "cell_type": "markdown",
      "metadata": {
        "id": "KRLTGtZc8idh"
      },
      "source": [
        "Combined conversion rate (pooled probability):\r\n",
        "\r\n",
        "$ p_{pooled} =  \\frac{X_{control} + X_{treatment}}{n_{control} + n_{treatment}}$"
      ]
    },
    {
      "cell_type": "markdown",
      "metadata": {
        "id": "1fZ_lDpc9J60"
      },
      "source": [
        "Pooled standard error:\r\n",
        "\r\n",
        "$\\mathrm{SE} = \\sqrt{p_{pooled}(1-p_{pooled})(\\frac{1}{n_{control}} + \\frac{1}{n_{treatment}})}$"
      ]
    },
    {
      "cell_type": "markdown",
      "metadata": {
        "id": "B9h-Z6nB9q6o"
      },
      "source": [
        "Margin of error:\r\n",
        "\r\n",
        "$e =$ $z$-$\\mathrm{score}$ * $\\mathrm{SE}$ "
      ]
    },
    {
      "cell_type": "markdown",
      "metadata": {
        "id": "bHfCt4gW-JB8"
      },
      "source": [
        "Confidence interval:\r\n",
        "\r\n",
        "$\\delta \\pm e$"
      ]
    },
    {
      "cell_type": "markdown",
      "metadata": {
        "id": "orcYW9nW-VaW"
      },
      "source": [
        "Z-statistic:\r\n",
        "\r\n",
        "$Z = \\frac{\\delta}{\\mathrm{SE}} = \\frac{\\hat{p}_{treatment} - \\hat{p}_{control}}{p_{pooled} (1 - p_{pooled}) * (\\frac{1}{n_{control}} + \\frac{1}{n_{treatment}})}$"
      ]
    },
    {
      "cell_type": "markdown",
      "metadata": {
        "id": "WCKRB5M6_LOr"
      },
      "source": [
        "P-value (for two-tailed test):\r\n",
        "\r\n",
        "$p = 2 * (1 - \\mathrm{cdf}(|Z|))$"
      ]
    },
    {
      "cell_type": "code",
      "metadata": {
        "colab": {
          "base_uri": "https://localhost:8080/",
          "height": 1000
        },
        "id": "FXTR4ehRflPT",
        "outputId": "e559dd2d-f261-49fd-bd30-ba1c74d6383e"
      },
      "source": [
        "from scipy.stats import norm\r\n",
        "import numpy as np\r\n",
        "\r\n",
        "data['conversion_rate_control'] = data[['Pageviews_control', 'Clicks_control']].apply(\r\n",
        "    lambda input_arr: input_arr[1] / input_arr[0], axis=1\r\n",
        ")\r\n",
        "\r\n",
        "data['conversion_rate_treatment'] = data[['Pageviews_treatment', 'Clicks_treatment']].apply(\r\n",
        "    lambda input_arr: input_arr[1] / input_arr[0], axis=1\r\n",
        ")\r\n",
        "\r\n",
        "data['observed_difference'] = data[['conversion_rate_control', 'conversion_rate_treatment']].apply(\r\n",
        "    lambda x: (x[1] - x[0]), axis=1\r\n",
        ")\r\n",
        "\r\n",
        "data['combined_conversion_rate'] = data[['Clicks_control', 'Clicks_treatment', 'Pageviews_control', 'Pageviews_treatment']].apply(\r\n",
        "    lambda x: ((x[0] + x[1])/ (x[2] + x[3]) ), axis=1\r\n",
        ")\r\n",
        "\r\n",
        "data['standard_error'] = data[['combined_conversion_rate', 'Pageviews_control', 'Pageviews_treatment']].apply(\r\n",
        "    lambda x: (np.sqrt( x[0] * (1 - x[0]) * ((1/x[1]) + (1/x[2])))), axis=1\r\n",
        ")\r\n",
        "\r\n",
        "data['margin_of_error_95'] = data['standard_error'].apply(\r\n",
        "    lambda x: x * 1.96\r\n",
        ")\r\n",
        "\r\n",
        "data['conf_upper_bound'] = data[['observed_difference', 'margin_of_error_95']].apply(\r\n",
        "    lambda x: (x[0] + x[1]), axis=1 \r\n",
        ")\r\n",
        "\r\n",
        "data['conf_lower_bound'] = data[['observed_difference', 'margin_of_error_95']].apply(\r\n",
        "    lambda x: (x[0] - x[1]), axis=1 \r\n",
        ")\r\n",
        "\r\n",
        "data['z_statistic'] = data[['observed_difference', 'standard_error']].apply(\r\n",
        "    lambda x: (x[0] / x[1]), axis=1\r\n",
        ")\r\n",
        "\r\n",
        "data['p_value'] = data['z_statistic'].apply(\r\n",
        "    lambda x: 2 * (1 - norm.cdf(abs(x)))\r\n",
        ")\r\n",
        "\r\n",
        "data"
      ],
      "execution_count": null,
      "outputs": [
        {
          "output_type": "execute_result",
          "data": {
            "text/html": [
              "<div>\n",
              "<style scoped>\n",
              "    .dataframe tbody tr th:only-of-type {\n",
              "        vertical-align: middle;\n",
              "    }\n",
              "\n",
              "    .dataframe tbody tr th {\n",
              "        vertical-align: top;\n",
              "    }\n",
              "\n",
              "    .dataframe thead th {\n",
              "        text-align: right;\n",
              "    }\n",
              "</style>\n",
              "<table border=\"1\" class=\"dataframe\">\n",
              "  <thead>\n",
              "    <tr style=\"text-align: right;\">\n",
              "      <th></th>\n",
              "      <th>Date</th>\n",
              "      <th>Pageviews_control</th>\n",
              "      <th>Clicks_control</th>\n",
              "      <th>Enrollments_control</th>\n",
              "      <th>Payments_control</th>\n",
              "      <th>group_control</th>\n",
              "      <th>Pageviews_treatment</th>\n",
              "      <th>Clicks_treatment</th>\n",
              "      <th>Enrollments_treatment</th>\n",
              "      <th>Payments_treatment</th>\n",
              "      <th>group_treatment</th>\n",
              "      <th>conversion_rate_control</th>\n",
              "      <th>conversion_rate_treatment</th>\n",
              "      <th>observed_difference</th>\n",
              "      <th>combined_conversion_rate</th>\n",
              "      <th>standard_error</th>\n",
              "      <th>margin_of_error_95</th>\n",
              "      <th>conf_upper_bound</th>\n",
              "      <th>conf_lower_bound</th>\n",
              "      <th>z_statistic</th>\n",
              "      <th>p_value</th>\n",
              "    </tr>\n",
              "  </thead>\n",
              "  <tbody>\n",
              "    <tr>\n",
              "      <th>0</th>\n",
              "      <td>Sat, Oct 11</td>\n",
              "      <td>7723</td>\n",
              "      <td>687</td>\n",
              "      <td>134.0</td>\n",
              "      <td>70.0</td>\n",
              "      <td>control</td>\n",
              "      <td>7716</td>\n",
              "      <td>686</td>\n",
              "      <td>105.0</td>\n",
              "      <td>34.0</td>\n",
              "      <td>treatment</td>\n",
              "      <td>0.088955</td>\n",
              "      <td>0.088906</td>\n",
              "      <td>-0.000049</td>\n",
              "      <td>0.088931</td>\n",
              "      <td>0.004582</td>\n",
              "      <td>0.008980</td>\n",
              "      <td>0.008931</td>\n",
              "      <td>-0.009029</td>\n",
              "      <td>-0.010673</td>\n",
              "      <td>0.991484</td>\n",
              "    </tr>\n",
              "    <tr>\n",
              "      <th>1</th>\n",
              "      <td>Sun, Oct 12</td>\n",
              "      <td>9102</td>\n",
              "      <td>779</td>\n",
              "      <td>147.0</td>\n",
              "      <td>70.0</td>\n",
              "      <td>control</td>\n",
              "      <td>9288</td>\n",
              "      <td>785</td>\n",
              "      <td>116.0</td>\n",
              "      <td>91.0</td>\n",
              "      <td>treatment</td>\n",
              "      <td>0.085586</td>\n",
              "      <td>0.084518</td>\n",
              "      <td>-0.001068</td>\n",
              "      <td>0.085046</td>\n",
              "      <td>0.004114</td>\n",
              "      <td>0.008064</td>\n",
              "      <td>0.006996</td>\n",
              "      <td>-0.009132</td>\n",
              "      <td>-0.259570</td>\n",
              "      <td>0.795196</td>\n",
              "    </tr>\n",
              "    <tr>\n",
              "      <th>2</th>\n",
              "      <td>Mon, Oct 13</td>\n",
              "      <td>10511</td>\n",
              "      <td>909</td>\n",
              "      <td>167.0</td>\n",
              "      <td>95.0</td>\n",
              "      <td>control</td>\n",
              "      <td>10480</td>\n",
              "      <td>884</td>\n",
              "      <td>145.0</td>\n",
              "      <td>79.0</td>\n",
              "      <td>treatment</td>\n",
              "      <td>0.086481</td>\n",
              "      <td>0.084351</td>\n",
              "      <td>-0.002130</td>\n",
              "      <td>0.085418</td>\n",
              "      <td>0.003858</td>\n",
              "      <td>0.007562</td>\n",
              "      <td>0.005433</td>\n",
              "      <td>-0.009692</td>\n",
              "      <td>-0.551971</td>\n",
              "      <td>0.580968</td>\n",
              "    </tr>\n",
              "    <tr>\n",
              "      <th>3</th>\n",
              "      <td>Tue, Oct 14</td>\n",
              "      <td>9871</td>\n",
              "      <td>836</td>\n",
              "      <td>156.0</td>\n",
              "      <td>105.0</td>\n",
              "      <td>control</td>\n",
              "      <td>9867</td>\n",
              "      <td>827</td>\n",
              "      <td>138.0</td>\n",
              "      <td>92.0</td>\n",
              "      <td>treatment</td>\n",
              "      <td>0.084693</td>\n",
              "      <td>0.083815</td>\n",
              "      <td>-0.000878</td>\n",
              "      <td>0.084254</td>\n",
              "      <td>0.003954</td>\n",
              "      <td>0.007750</td>\n",
              "      <td>0.006872</td>\n",
              "      <td>-0.008628</td>\n",
              "      <td>-0.221990</td>\n",
              "      <td>0.824321</td>\n",
              "    </tr>\n",
              "    <tr>\n",
              "      <th>4</th>\n",
              "      <td>Wed, Oct 15</td>\n",
              "      <td>10014</td>\n",
              "      <td>837</td>\n",
              "      <td>163.0</td>\n",
              "      <td>64.0</td>\n",
              "      <td>control</td>\n",
              "      <td>9793</td>\n",
              "      <td>832</td>\n",
              "      <td>140.0</td>\n",
              "      <td>94.0</td>\n",
              "      <td>treatment</td>\n",
              "      <td>0.083583</td>\n",
              "      <td>0.084959</td>\n",
              "      <td>0.001376</td>\n",
              "      <td>0.084263</td>\n",
              "      <td>0.003948</td>\n",
              "      <td>0.007738</td>\n",
              "      <td>0.009113</td>\n",
              "      <td>-0.006362</td>\n",
              "      <td>0.348465</td>\n",
              "      <td>0.727491</td>\n",
              "    </tr>\n",
              "    <tr>\n",
              "      <th>5</th>\n",
              "      <td>Thu, Oct 16</td>\n",
              "      <td>9670</td>\n",
              "      <td>823</td>\n",
              "      <td>138.0</td>\n",
              "      <td>82.0</td>\n",
              "      <td>control</td>\n",
              "      <td>9500</td>\n",
              "      <td>788</td>\n",
              "      <td>129.0</td>\n",
              "      <td>61.0</td>\n",
              "      <td>treatment</td>\n",
              "      <td>0.085109</td>\n",
              "      <td>0.082947</td>\n",
              "      <td>-0.002161</td>\n",
              "      <td>0.084038</td>\n",
              "      <td>0.004008</td>\n",
              "      <td>0.007855</td>\n",
              "      <td>0.005694</td>\n",
              "      <td>-0.010017</td>\n",
              "      <td>-0.539245</td>\n",
              "      <td>0.589718</td>\n",
              "    </tr>\n",
              "    <tr>\n",
              "      <th>6</th>\n",
              "      <td>Fri, Oct 17</td>\n",
              "      <td>9008</td>\n",
              "      <td>748</td>\n",
              "      <td>146.0</td>\n",
              "      <td>76.0</td>\n",
              "      <td>control</td>\n",
              "      <td>9088</td>\n",
              "      <td>780</td>\n",
              "      <td>127.0</td>\n",
              "      <td>44.0</td>\n",
              "      <td>treatment</td>\n",
              "      <td>0.083037</td>\n",
              "      <td>0.085827</td>\n",
              "      <td>0.002790</td>\n",
              "      <td>0.084439</td>\n",
              "      <td>0.004134</td>\n",
              "      <td>0.008102</td>\n",
              "      <td>0.010893</td>\n",
              "      <td>-0.005312</td>\n",
              "      <td>0.674952</td>\n",
              "      <td>0.499706</td>\n",
              "    </tr>\n",
              "    <tr>\n",
              "      <th>7</th>\n",
              "      <td>Sat, Oct 18</td>\n",
              "      <td>7434</td>\n",
              "      <td>632</td>\n",
              "      <td>110.0</td>\n",
              "      <td>70.0</td>\n",
              "      <td>control</td>\n",
              "      <td>7664</td>\n",
              "      <td>652</td>\n",
              "      <td>94.0</td>\n",
              "      <td>62.0</td>\n",
              "      <td>treatment</td>\n",
              "      <td>0.085015</td>\n",
              "      <td>0.085073</td>\n",
              "      <td>0.000058</td>\n",
              "      <td>0.085044</td>\n",
              "      <td>0.004541</td>\n",
              "      <td>0.008900</td>\n",
              "      <td>0.008958</td>\n",
              "      <td>-0.008842</td>\n",
              "      <td>0.012833</td>\n",
              "      <td>0.989761</td>\n",
              "    </tr>\n",
              "    <tr>\n",
              "      <th>8</th>\n",
              "      <td>Sun, Oct 19</td>\n",
              "      <td>8459</td>\n",
              "      <td>691</td>\n",
              "      <td>131.0</td>\n",
              "      <td>60.0</td>\n",
              "      <td>control</td>\n",
              "      <td>8434</td>\n",
              "      <td>697</td>\n",
              "      <td>120.0</td>\n",
              "      <td>77.0</td>\n",
              "      <td>treatment</td>\n",
              "      <td>0.081688</td>\n",
              "      <td>0.082642</td>\n",
              "      <td>0.000954</td>\n",
              "      <td>0.082164</td>\n",
              "      <td>0.004226</td>\n",
              "      <td>0.008282</td>\n",
              "      <td>0.009236</td>\n",
              "      <td>-0.007329</td>\n",
              "      <td>0.225653</td>\n",
              "      <td>0.821472</td>\n",
              "    </tr>\n",
              "    <tr>\n",
              "      <th>9</th>\n",
              "      <td>Mon, Oct 20</td>\n",
              "      <td>10667</td>\n",
              "      <td>861</td>\n",
              "      <td>165.0</td>\n",
              "      <td>97.0</td>\n",
              "      <td>control</td>\n",
              "      <td>10496</td>\n",
              "      <td>860</td>\n",
              "      <td>153.0</td>\n",
              "      <td>98.0</td>\n",
              "      <td>treatment</td>\n",
              "      <td>0.080716</td>\n",
              "      <td>0.081936</td>\n",
              "      <td>0.001220</td>\n",
              "      <td>0.081321</td>\n",
              "      <td>0.003758</td>\n",
              "      <td>0.007365</td>\n",
              "      <td>0.008585</td>\n",
              "      <td>-0.006146</td>\n",
              "      <td>0.324587</td>\n",
              "      <td>0.745494</td>\n",
              "    </tr>\n",
              "    <tr>\n",
              "      <th>10</th>\n",
              "      <td>Tue, Oct 21</td>\n",
              "      <td>10660</td>\n",
              "      <td>867</td>\n",
              "      <td>196.0</td>\n",
              "      <td>105.0</td>\n",
              "      <td>control</td>\n",
              "      <td>10551</td>\n",
              "      <td>864</td>\n",
              "      <td>143.0</td>\n",
              "      <td>71.0</td>\n",
              "      <td>treatment</td>\n",
              "      <td>0.081332</td>\n",
              "      <td>0.081888</td>\n",
              "      <td>0.000556</td>\n",
              "      <td>0.081609</td>\n",
              "      <td>0.003760</td>\n",
              "      <td>0.007369</td>\n",
              "      <td>0.007925</td>\n",
              "      <td>-0.006813</td>\n",
              "      <td>0.147860</td>\n",
              "      <td>0.882453</td>\n",
              "    </tr>\n",
              "    <tr>\n",
              "      <th>11</th>\n",
              "      <td>Wed, Oct 22</td>\n",
              "      <td>9947</td>\n",
              "      <td>838</td>\n",
              "      <td>162.0</td>\n",
              "      <td>92.0</td>\n",
              "      <td>control</td>\n",
              "      <td>9737</td>\n",
              "      <td>801</td>\n",
              "      <td>128.0</td>\n",
              "      <td>70.0</td>\n",
              "      <td>treatment</td>\n",
              "      <td>0.084247</td>\n",
              "      <td>0.082264</td>\n",
              "      <td>-0.001983</td>\n",
              "      <td>0.083266</td>\n",
              "      <td>0.003939</td>\n",
              "      <td>0.007720</td>\n",
              "      <td>0.005737</td>\n",
              "      <td>-0.009703</td>\n",
              "      <td>-0.503460</td>\n",
              "      <td>0.614641</td>\n",
              "    </tr>\n",
              "    <tr>\n",
              "      <th>12</th>\n",
              "      <td>Thu, Oct 23</td>\n",
              "      <td>8324</td>\n",
              "      <td>665</td>\n",
              "      <td>127.0</td>\n",
              "      <td>56.0</td>\n",
              "      <td>control</td>\n",
              "      <td>8176</td>\n",
              "      <td>642</td>\n",
              "      <td>122.0</td>\n",
              "      <td>68.0</td>\n",
              "      <td>treatment</td>\n",
              "      <td>0.079889</td>\n",
              "      <td>0.078523</td>\n",
              "      <td>-0.001367</td>\n",
              "      <td>0.079212</td>\n",
              "      <td>0.004205</td>\n",
              "      <td>0.008242</td>\n",
              "      <td>0.006875</td>\n",
              "      <td>-0.009609</td>\n",
              "      <td>-0.325071</td>\n",
              "      <td>0.745127</td>\n",
              "    </tr>\n",
              "    <tr>\n",
              "      <th>13</th>\n",
              "      <td>Fri, Oct 24</td>\n",
              "      <td>9434</td>\n",
              "      <td>673</td>\n",
              "      <td>220.0</td>\n",
              "      <td>122.0</td>\n",
              "      <td>control</td>\n",
              "      <td>9402</td>\n",
              "      <td>697</td>\n",
              "      <td>194.0</td>\n",
              "      <td>94.0</td>\n",
              "      <td>treatment</td>\n",
              "      <td>0.071338</td>\n",
              "      <td>0.074133</td>\n",
              "      <td>0.002795</td>\n",
              "      <td>0.072733</td>\n",
              "      <td>0.003784</td>\n",
              "      <td>0.007418</td>\n",
              "      <td>0.010213</td>\n",
              "      <td>-0.004622</td>\n",
              "      <td>0.738664</td>\n",
              "      <td>0.460111</td>\n",
              "    </tr>\n",
              "    <tr>\n",
              "      <th>14</th>\n",
              "      <td>Sat, Oct 25</td>\n",
              "      <td>8687</td>\n",
              "      <td>691</td>\n",
              "      <td>176.0</td>\n",
              "      <td>128.0</td>\n",
              "      <td>control</td>\n",
              "      <td>8669</td>\n",
              "      <td>669</td>\n",
              "      <td>127.0</td>\n",
              "      <td>81.0</td>\n",
              "      <td>treatment</td>\n",
              "      <td>0.079544</td>\n",
              "      <td>0.077172</td>\n",
              "      <td>-0.002373</td>\n",
              "      <td>0.078359</td>\n",
              "      <td>0.004080</td>\n",
              "      <td>0.007996</td>\n",
              "      <td>0.005624</td>\n",
              "      <td>-0.010369</td>\n",
              "      <td>-0.581563</td>\n",
              "      <td>0.560861</td>\n",
              "    </tr>\n",
              "    <tr>\n",
              "      <th>15</th>\n",
              "      <td>Sun, Oct 26</td>\n",
              "      <td>8896</td>\n",
              "      <td>708</td>\n",
              "      <td>161.0</td>\n",
              "      <td>104.0</td>\n",
              "      <td>control</td>\n",
              "      <td>8881</td>\n",
              "      <td>693</td>\n",
              "      <td>153.0</td>\n",
              "      <td>101.0</td>\n",
              "      <td>treatment</td>\n",
              "      <td>0.079586</td>\n",
              "      <td>0.078032</td>\n",
              "      <td>-0.001555</td>\n",
              "      <td>0.078810</td>\n",
              "      <td>0.004042</td>\n",
              "      <td>0.007922</td>\n",
              "      <td>0.006367</td>\n",
              "      <td>-0.009476</td>\n",
              "      <td>-0.384633</td>\n",
              "      <td>0.700509</td>\n",
              "    </tr>\n",
              "    <tr>\n",
              "      <th>16</th>\n",
              "      <td>Mon, Oct 27</td>\n",
              "      <td>9535</td>\n",
              "      <td>759</td>\n",
              "      <td>233.0</td>\n",
              "      <td>124.0</td>\n",
              "      <td>control</td>\n",
              "      <td>9655</td>\n",
              "      <td>771</td>\n",
              "      <td>213.0</td>\n",
              "      <td>119.0</td>\n",
              "      <td>treatment</td>\n",
              "      <td>0.079601</td>\n",
              "      <td>0.079855</td>\n",
              "      <td>0.000254</td>\n",
              "      <td>0.079729</td>\n",
              "      <td>0.003911</td>\n",
              "      <td>0.007665</td>\n",
              "      <td>0.007919</td>\n",
              "      <td>-0.007412</td>\n",
              "      <td>0.064828</td>\n",
              "      <td>0.948311</td>\n",
              "    </tr>\n",
              "    <tr>\n",
              "      <th>17</th>\n",
              "      <td>Tue, Oct 28</td>\n",
              "      <td>9363</td>\n",
              "      <td>736</td>\n",
              "      <td>154.0</td>\n",
              "      <td>91.0</td>\n",
              "      <td>control</td>\n",
              "      <td>9396</td>\n",
              "      <td>736</td>\n",
              "      <td>162.0</td>\n",
              "      <td>120.0</td>\n",
              "      <td>treatment</td>\n",
              "      <td>0.078607</td>\n",
              "      <td>0.078331</td>\n",
              "      <td>-0.000276</td>\n",
              "      <td>0.078469</td>\n",
              "      <td>0.003927</td>\n",
              "      <td>0.007696</td>\n",
              "      <td>0.007420</td>\n",
              "      <td>-0.007972</td>\n",
              "      <td>-0.070308</td>\n",
              "      <td>0.943949</td>\n",
              "    </tr>\n",
              "    <tr>\n",
              "      <th>18</th>\n",
              "      <td>Wed, Oct 29</td>\n",
              "      <td>9327</td>\n",
              "      <td>739</td>\n",
              "      <td>196.0</td>\n",
              "      <td>86.0</td>\n",
              "      <td>control</td>\n",
              "      <td>9262</td>\n",
              "      <td>727</td>\n",
              "      <td>201.0</td>\n",
              "      <td>96.0</td>\n",
              "      <td>treatment</td>\n",
              "      <td>0.079232</td>\n",
              "      <td>0.078493</td>\n",
              "      <td>-0.000740</td>\n",
              "      <td>0.078864</td>\n",
              "      <td>0.003954</td>\n",
              "      <td>0.007749</td>\n",
              "      <td>0.007010</td>\n",
              "      <td>-0.008489</td>\n",
              "      <td>-0.187057</td>\n",
              "      <td>0.851616</td>\n",
              "    </tr>\n",
              "    <tr>\n",
              "      <th>19</th>\n",
              "      <td>Thu, Oct 30</td>\n",
              "      <td>9345</td>\n",
              "      <td>734</td>\n",
              "      <td>167.0</td>\n",
              "      <td>75.0</td>\n",
              "      <td>control</td>\n",
              "      <td>9308</td>\n",
              "      <td>728</td>\n",
              "      <td>207.0</td>\n",
              "      <td>67.0</td>\n",
              "      <td>treatment</td>\n",
              "      <td>0.078545</td>\n",
              "      <td>0.078212</td>\n",
              "      <td>-0.000332</td>\n",
              "      <td>0.078379</td>\n",
              "      <td>0.003936</td>\n",
              "      <td>0.007714</td>\n",
              "      <td>0.007382</td>\n",
              "      <td>-0.008047</td>\n",
              "      <td>-0.084452</td>\n",
              "      <td>0.932697</td>\n",
              "    </tr>\n",
              "    <tr>\n",
              "      <th>20</th>\n",
              "      <td>Fri, Oct 31</td>\n",
              "      <td>8890</td>\n",
              "      <td>706</td>\n",
              "      <td>174.0</td>\n",
              "      <td>101.0</td>\n",
              "      <td>control</td>\n",
              "      <td>8715</td>\n",
              "      <td>722</td>\n",
              "      <td>182.0</td>\n",
              "      <td>123.0</td>\n",
              "      <td>treatment</td>\n",
              "      <td>0.079415</td>\n",
              "      <td>0.082846</td>\n",
              "      <td>0.003431</td>\n",
              "      <td>0.081113</td>\n",
              "      <td>0.004115</td>\n",
              "      <td>0.008066</td>\n",
              "      <td>0.011497</td>\n",
              "      <td>-0.004636</td>\n",
              "      <td>0.833602</td>\n",
              "      <td>0.404505</td>\n",
              "    </tr>\n",
              "    <tr>\n",
              "      <th>21</th>\n",
              "      <td>Sat, Nov 1</td>\n",
              "      <td>8460</td>\n",
              "      <td>681</td>\n",
              "      <td>156.0</td>\n",
              "      <td>93.0</td>\n",
              "      <td>control</td>\n",
              "      <td>8448</td>\n",
              "      <td>695</td>\n",
              "      <td>142.0</td>\n",
              "      <td>100.0</td>\n",
              "      <td>treatment</td>\n",
              "      <td>0.080496</td>\n",
              "      <td>0.082268</td>\n",
              "      <td>0.001772</td>\n",
              "      <td>0.081382</td>\n",
              "      <td>0.004205</td>\n",
              "      <td>0.008243</td>\n",
              "      <td>0.010014</td>\n",
              "      <td>-0.006471</td>\n",
              "      <td>0.421246</td>\n",
              "      <td>0.673575</td>\n",
              "    </tr>\n",
              "    <tr>\n",
              "      <th>22</th>\n",
              "      <td>Sun, Nov 2</td>\n",
              "      <td>8836</td>\n",
              "      <td>693</td>\n",
              "      <td>206.0</td>\n",
              "      <td>67.0</td>\n",
              "      <td>control</td>\n",
              "      <td>8836</td>\n",
              "      <td>724</td>\n",
              "      <td>182.0</td>\n",
              "      <td>103.0</td>\n",
              "      <td>treatment</td>\n",
              "      <td>0.078429</td>\n",
              "      <td>0.081938</td>\n",
              "      <td>0.003508</td>\n",
              "      <td>0.080183</td>\n",
              "      <td>0.004086</td>\n",
              "      <td>0.008008</td>\n",
              "      <td>0.011517</td>\n",
              "      <td>-0.004500</td>\n",
              "      <td>0.858670</td>\n",
              "      <td>0.390523</td>\n",
              "    </tr>\n",
              "    <tr>\n",
              "      <th>23</th>\n",
              "      <td>Mon, Nov 3</td>\n",
              "      <td>9437</td>\n",
              "      <td>788</td>\n",
              "      <td>0.0</td>\n",
              "      <td>0.0</td>\n",
              "      <td>control</td>\n",
              "      <td>9359</td>\n",
              "      <td>789</td>\n",
              "      <td>0.0</td>\n",
              "      <td>0.0</td>\n",
              "      <td>treatment</td>\n",
              "      <td>0.083501</td>\n",
              "      <td>0.084304</td>\n",
              "      <td>0.000803</td>\n",
              "      <td>0.083901</td>\n",
              "      <td>0.004044</td>\n",
              "      <td>0.007927</td>\n",
              "      <td>0.008730</td>\n",
              "      <td>-0.007124</td>\n",
              "      <td>0.198488</td>\n",
              "      <td>0.842664</td>\n",
              "    </tr>\n",
              "    <tr>\n",
              "      <th>24</th>\n",
              "      <td>Tue, Nov 4</td>\n",
              "      <td>9420</td>\n",
              "      <td>781</td>\n",
              "      <td>0.0</td>\n",
              "      <td>0.0</td>\n",
              "      <td>control</td>\n",
              "      <td>9427</td>\n",
              "      <td>743</td>\n",
              "      <td>0.0</td>\n",
              "      <td>0.0</td>\n",
              "      <td>treatment</td>\n",
              "      <td>0.082909</td>\n",
              "      <td>0.078816</td>\n",
              "      <td>-0.004093</td>\n",
              "      <td>0.080862</td>\n",
              "      <td>0.003972</td>\n",
              "      <td>0.007784</td>\n",
              "      <td>0.003692</td>\n",
              "      <td>-0.011877</td>\n",
              "      <td>-1.030438</td>\n",
              "      <td>0.302804</td>\n",
              "    </tr>\n",
              "    <tr>\n",
              "      <th>25</th>\n",
              "      <td>Wed, Nov 5</td>\n",
              "      <td>9570</td>\n",
              "      <td>805</td>\n",
              "      <td>0.0</td>\n",
              "      <td>0.0</td>\n",
              "      <td>control</td>\n",
              "      <td>9633</td>\n",
              "      <td>808</td>\n",
              "      <td>0.0</td>\n",
              "      <td>0.0</td>\n",
              "      <td>treatment</td>\n",
              "      <td>0.084117</td>\n",
              "      <td>0.083878</td>\n",
              "      <td>-0.000239</td>\n",
              "      <td>0.083997</td>\n",
              "      <td>0.004003</td>\n",
              "      <td>0.007847</td>\n",
              "      <td>0.007608</td>\n",
              "      <td>-0.008085</td>\n",
              "      <td>-0.059624</td>\n",
              "      <td>0.952455</td>\n",
              "    </tr>\n",
              "    <tr>\n",
              "      <th>26</th>\n",
              "      <td>Thu, Nov 6</td>\n",
              "      <td>9921</td>\n",
              "      <td>830</td>\n",
              "      <td>0.0</td>\n",
              "      <td>0.0</td>\n",
              "      <td>control</td>\n",
              "      <td>9842</td>\n",
              "      <td>831</td>\n",
              "      <td>0.0</td>\n",
              "      <td>0.0</td>\n",
              "      <td>treatment</td>\n",
              "      <td>0.083661</td>\n",
              "      <td>0.084434</td>\n",
              "      <td>0.000773</td>\n",
              "      <td>0.084046</td>\n",
              "      <td>0.003947</td>\n",
              "      <td>0.007737</td>\n",
              "      <td>0.008510</td>\n",
              "      <td>-0.006964</td>\n",
              "      <td>0.195864</td>\n",
              "      <td>0.844717</td>\n",
              "    </tr>\n",
              "    <tr>\n",
              "      <th>27</th>\n",
              "      <td>Fri, Nov 7</td>\n",
              "      <td>9424</td>\n",
              "      <td>781</td>\n",
              "      <td>0.0</td>\n",
              "      <td>0.0</td>\n",
              "      <td>control</td>\n",
              "      <td>9272</td>\n",
              "      <td>767</td>\n",
              "      <td>0.0</td>\n",
              "      <td>0.0</td>\n",
              "      <td>treatment</td>\n",
              "      <td>0.082874</td>\n",
              "      <td>0.082722</td>\n",
              "      <td>-0.000151</td>\n",
              "      <td>0.082798</td>\n",
              "      <td>0.004031</td>\n",
              "      <td>0.007901</td>\n",
              "      <td>0.007749</td>\n",
              "      <td>-0.008052</td>\n",
              "      <td>-0.037544</td>\n",
              "      <td>0.970051</td>\n",
              "    </tr>\n",
              "    <tr>\n",
              "      <th>28</th>\n",
              "      <td>Sat, Nov 8</td>\n",
              "      <td>9010</td>\n",
              "      <td>756</td>\n",
              "      <td>0.0</td>\n",
              "      <td>0.0</td>\n",
              "      <td>control</td>\n",
              "      <td>8969</td>\n",
              "      <td>760</td>\n",
              "      <td>0.0</td>\n",
              "      <td>0.0</td>\n",
              "      <td>treatment</td>\n",
              "      <td>0.083907</td>\n",
              "      <td>0.084736</td>\n",
              "      <td>0.000830</td>\n",
              "      <td>0.084321</td>\n",
              "      <td>0.004145</td>\n",
              "      <td>0.008123</td>\n",
              "      <td>0.008953</td>\n",
              "      <td>-0.007294</td>\n",
              "      <td>0.200149</td>\n",
              "      <td>0.841364</td>\n",
              "    </tr>\n",
              "    <tr>\n",
              "      <th>29</th>\n",
              "      <td>Sun, Nov 9</td>\n",
              "      <td>9656</td>\n",
              "      <td>825</td>\n",
              "      <td>0.0</td>\n",
              "      <td>0.0</td>\n",
              "      <td>control</td>\n",
              "      <td>9697</td>\n",
              "      <td>850</td>\n",
              "      <td>0.0</td>\n",
              "      <td>0.0</td>\n",
              "      <td>treatment</td>\n",
              "      <td>0.085439</td>\n",
              "      <td>0.087656</td>\n",
              "      <td>0.002217</td>\n",
              "      <td>0.086550</td>\n",
              "      <td>0.004042</td>\n",
              "      <td>0.007923</td>\n",
              "      <td>0.010140</td>\n",
              "      <td>-0.005706</td>\n",
              "      <td>0.548413</td>\n",
              "      <td>0.583408</td>\n",
              "    </tr>\n",
              "    <tr>\n",
              "      <th>30</th>\n",
              "      <td>Mon, Nov 10</td>\n",
              "      <td>10419</td>\n",
              "      <td>874</td>\n",
              "      <td>0.0</td>\n",
              "      <td>0.0</td>\n",
              "      <td>control</td>\n",
              "      <td>10445</td>\n",
              "      <td>851</td>\n",
              "      <td>0.0</td>\n",
              "      <td>0.0</td>\n",
              "      <td>treatment</td>\n",
              "      <td>0.083885</td>\n",
              "      <td>0.081474</td>\n",
              "      <td>-0.002411</td>\n",
              "      <td>0.082678</td>\n",
              "      <td>0.003813</td>\n",
              "      <td>0.007474</td>\n",
              "      <td>0.005063</td>\n",
              "      <td>-0.009885</td>\n",
              "      <td>-0.632232</td>\n",
              "      <td>0.527235</td>\n",
              "    </tr>\n",
              "    <tr>\n",
              "      <th>31</th>\n",
              "      <td>Tue, Nov 11</td>\n",
              "      <td>9880</td>\n",
              "      <td>830</td>\n",
              "      <td>0.0</td>\n",
              "      <td>0.0</td>\n",
              "      <td>control</td>\n",
              "      <td>9931</td>\n",
              "      <td>831</td>\n",
              "      <td>0.0</td>\n",
              "      <td>0.0</td>\n",
              "      <td>treatment</td>\n",
              "      <td>0.084008</td>\n",
              "      <td>0.083677</td>\n",
              "      <td>-0.000331</td>\n",
              "      <td>0.083842</td>\n",
              "      <td>0.003938</td>\n",
              "      <td>0.007719</td>\n",
              "      <td>0.007388</td>\n",
              "      <td>-0.008050</td>\n",
              "      <td>-0.083979</td>\n",
              "      <td>0.933073</td>\n",
              "    </tr>\n",
              "    <tr>\n",
              "      <th>32</th>\n",
              "      <td>Wed, Nov 12</td>\n",
              "      <td>10134</td>\n",
              "      <td>801</td>\n",
              "      <td>0.0</td>\n",
              "      <td>0.0</td>\n",
              "      <td>control</td>\n",
              "      <td>10042</td>\n",
              "      <td>802</td>\n",
              "      <td>0.0</td>\n",
              "      <td>0.0</td>\n",
              "      <td>treatment</td>\n",
              "      <td>0.079041</td>\n",
              "      <td>0.079865</td>\n",
              "      <td>0.000824</td>\n",
              "      <td>0.079451</td>\n",
              "      <td>0.003808</td>\n",
              "      <td>0.007464</td>\n",
              "      <td>0.008287</td>\n",
              "      <td>-0.006640</td>\n",
              "      <td>0.216316</td>\n",
              "      <td>0.828742</td>\n",
              "    </tr>\n",
              "    <tr>\n",
              "      <th>33</th>\n",
              "      <td>Thu, Nov 13</td>\n",
              "      <td>9717</td>\n",
              "      <td>814</td>\n",
              "      <td>0.0</td>\n",
              "      <td>0.0</td>\n",
              "      <td>control</td>\n",
              "      <td>9721</td>\n",
              "      <td>829</td>\n",
              "      <td>0.0</td>\n",
              "      <td>0.0</td>\n",
              "      <td>treatment</td>\n",
              "      <td>0.083771</td>\n",
              "      <td>0.085279</td>\n",
              "      <td>0.001509</td>\n",
              "      <td>0.084525</td>\n",
              "      <td>0.003990</td>\n",
              "      <td>0.007821</td>\n",
              "      <td>0.009330</td>\n",
              "      <td>-0.006313</td>\n",
              "      <td>0.378049</td>\n",
              "      <td>0.705394</td>\n",
              "    </tr>\n",
              "    <tr>\n",
              "      <th>34</th>\n",
              "      <td>Fri, Nov 14</td>\n",
              "      <td>9192</td>\n",
              "      <td>735</td>\n",
              "      <td>0.0</td>\n",
              "      <td>0.0</td>\n",
              "      <td>control</td>\n",
              "      <td>9304</td>\n",
              "      <td>770</td>\n",
              "      <td>0.0</td>\n",
              "      <td>0.0</td>\n",
              "      <td>treatment</td>\n",
              "      <td>0.079961</td>\n",
              "      <td>0.082760</td>\n",
              "      <td>0.002799</td>\n",
              "      <td>0.081369</td>\n",
              "      <td>0.004021</td>\n",
              "      <td>0.007881</td>\n",
              "      <td>0.010680</td>\n",
              "      <td>-0.005081</td>\n",
              "      <td>0.696218</td>\n",
              "      <td>0.486292</td>\n",
              "    </tr>\n",
              "    <tr>\n",
              "      <th>35</th>\n",
              "      <td>Sat, Nov 15</td>\n",
              "      <td>8630</td>\n",
              "      <td>743</td>\n",
              "      <td>0.0</td>\n",
              "      <td>0.0</td>\n",
              "      <td>control</td>\n",
              "      <td>8668</td>\n",
              "      <td>724</td>\n",
              "      <td>0.0</td>\n",
              "      <td>0.0</td>\n",
              "      <td>treatment</td>\n",
              "      <td>0.086095</td>\n",
              "      <td>0.083526</td>\n",
              "      <td>-0.002569</td>\n",
              "      <td>0.084807</td>\n",
              "      <td>0.004236</td>\n",
              "      <td>0.008304</td>\n",
              "      <td>0.005734</td>\n",
              "      <td>-0.010873</td>\n",
              "      <td>-0.606494</td>\n",
              "      <td>0.544187</td>\n",
              "    </tr>\n",
              "    <tr>\n",
              "      <th>36</th>\n",
              "      <td>Sun, Nov 16</td>\n",
              "      <td>8970</td>\n",
              "      <td>722</td>\n",
              "      <td>0.0</td>\n",
              "      <td>0.0</td>\n",
              "      <td>control</td>\n",
              "      <td>8988</td>\n",
              "      <td>710</td>\n",
              "      <td>0.0</td>\n",
              "      <td>0.0</td>\n",
              "      <td>treatment</td>\n",
              "      <td>0.080491</td>\n",
              "      <td>0.078994</td>\n",
              "      <td>-0.001496</td>\n",
              "      <td>0.079742</td>\n",
              "      <td>0.004043</td>\n",
              "      <td>0.007924</td>\n",
              "      <td>0.006428</td>\n",
              "      <td>-0.009420</td>\n",
              "      <td>-0.370103</td>\n",
              "      <td>0.711306</td>\n",
              "    </tr>\n",
              "  </tbody>\n",
              "</table>\n",
              "</div>"
            ],
            "text/plain": [
              "           Date  Pageviews_control  ...  z_statistic   p_value\n",
              "0   Sat, Oct 11               7723  ...    -0.010673  0.991484\n",
              "1   Sun, Oct 12               9102  ...    -0.259570  0.795196\n",
              "2   Mon, Oct 13              10511  ...    -0.551971  0.580968\n",
              "3   Tue, Oct 14               9871  ...    -0.221990  0.824321\n",
              "4   Wed, Oct 15              10014  ...     0.348465  0.727491\n",
              "5   Thu, Oct 16               9670  ...    -0.539245  0.589718\n",
              "6   Fri, Oct 17               9008  ...     0.674952  0.499706\n",
              "7   Sat, Oct 18               7434  ...     0.012833  0.989761\n",
              "8   Sun, Oct 19               8459  ...     0.225653  0.821472\n",
              "9   Mon, Oct 20              10667  ...     0.324587  0.745494\n",
              "10  Tue, Oct 21              10660  ...     0.147860  0.882453\n",
              "11  Wed, Oct 22               9947  ...    -0.503460  0.614641\n",
              "12  Thu, Oct 23               8324  ...    -0.325071  0.745127\n",
              "13  Fri, Oct 24               9434  ...     0.738664  0.460111\n",
              "14  Sat, Oct 25               8687  ...    -0.581563  0.560861\n",
              "15  Sun, Oct 26               8896  ...    -0.384633  0.700509\n",
              "16  Mon, Oct 27               9535  ...     0.064828  0.948311\n",
              "17  Tue, Oct 28               9363  ...    -0.070308  0.943949\n",
              "18  Wed, Oct 29               9327  ...    -0.187057  0.851616\n",
              "19  Thu, Oct 30               9345  ...    -0.084452  0.932697\n",
              "20  Fri, Oct 31               8890  ...     0.833602  0.404505\n",
              "21   Sat, Nov 1               8460  ...     0.421246  0.673575\n",
              "22   Sun, Nov 2               8836  ...     0.858670  0.390523\n",
              "23   Mon, Nov 3               9437  ...     0.198488  0.842664\n",
              "24   Tue, Nov 4               9420  ...    -1.030438  0.302804\n",
              "25   Wed, Nov 5               9570  ...    -0.059624  0.952455\n",
              "26   Thu, Nov 6               9921  ...     0.195864  0.844717\n",
              "27   Fri, Nov 7               9424  ...    -0.037544  0.970051\n",
              "28   Sat, Nov 8               9010  ...     0.200149  0.841364\n",
              "29   Sun, Nov 9               9656  ...     0.548413  0.583408\n",
              "30  Mon, Nov 10              10419  ...    -0.632232  0.527235\n",
              "31  Tue, Nov 11               9880  ...    -0.083979  0.933073\n",
              "32  Wed, Nov 12              10134  ...     0.216316  0.828742\n",
              "33  Thu, Nov 13               9717  ...     0.378049  0.705394\n",
              "34  Fri, Nov 14               9192  ...     0.696218  0.486292\n",
              "35  Sat, Nov 15               8630  ...    -0.606494  0.544187\n",
              "36  Sun, Nov 16               8970  ...    -0.370103  0.711306\n",
              "\n",
              "[37 rows x 21 columns]"
            ]
          },
          "metadata": {
            "tags": []
          },
          "execution_count": 26
        }
      ]
    },
    {
      "cell_type": "markdown",
      "metadata": {
        "id": "VwSKQclP5Pi_"
      },
      "source": [
        "## Conversion rate for control group"
      ]
    },
    {
      "cell_type": "markdown",
      "metadata": {
        "id": "A4PKpUlp1uQT"
      },
      "source": [
        "First, let us sum up the number of pageviews for control group. We do this by selecting the  `Pageviews_control` column and applying `sum()` method:\r\n",
        "\r\n"
      ]
    },
    {
      "cell_type": "code",
      "metadata": {
        "id": "qWBLo96C2gc7"
      },
      "source": [
        "number_of_pageviews_control = data['Pageviews_control'].sum()\r\n",
        "print(number_of_pageviews_control)"
      ],
      "execution_count": null,
      "outputs": []
    },
    {
      "cell_type": "markdown",
      "metadata": {
        "id": "uvLqEUZF2oVl"
      },
      "source": [
        "Therefore,\r\n",
        "\r\n",
        "$n_{pageviews} = 345543$"
      ]
    },
    {
      "cell_type": "markdown",
      "metadata": {
        "id": "IgbsOQu82935"
      },
      "source": [
        "Let us do the same for the number of clicks amongst the control group:"
      ]
    },
    {
      "cell_type": "code",
      "metadata": {
        "id": "GTE7uF-527pN"
      },
      "source": [
        "number_of_clicks_control = data['Clicks_control'].sum()\r\n",
        "print(number_of_clicks_control) "
      ],
      "execution_count": null,
      "outputs": []
    },
    {
      "cell_type": "markdown",
      "metadata": {
        "id": "nIOVC0dl3alA"
      },
      "source": [
        "Therefore,\r\n",
        "\r\n",
        "$n_{clicks} = 28378$"
      ]
    },
    {
      "cell_type": "markdown",
      "metadata": {
        "id": "kWa5S7W93uNz"
      },
      "source": [
        "Now, let us find the conversion rate for the control group. This is done by:\r\n",
        "\r\n",
        "$conversion\\_rate_{control} = \\frac{n_{clicks}}{n_{pageviews}}$"
      ]
    },
    {
      "cell_type": "code",
      "metadata": {
        "id": "Q-P6qcPM2ZXB"
      },
      "source": [
        "conversion_rate_control = number_of_clicks_control/number_of_pageviews_control\r\n",
        "print(round(conversion_rate_control  * 100, 3))"
      ],
      "execution_count": null,
      "outputs": []
    },
    {
      "cell_type": "markdown",
      "metadata": {
        "id": "SMhI2I2U4suD"
      },
      "source": [
        "Therefore,\r\n",
        "\r\n",
        "$conversion\\_rate_{control} = 8.213\\%$\r\n",
        "\r\n",
        "\r\n",
        "Note that we multiple the result by 100 as the conversion rate is usually given in percent."
      ]
    },
    {
      "cell_type": "markdown",
      "metadata": {
        "id": "RIjzJO_S5as2"
      },
      "source": [
        "## Conversion rate for treatment group"
      ]
    },
    {
      "cell_type": "markdown",
      "metadata": {
        "id": "ZImZkenQ5dqY"
      },
      "source": [
        "Let us follow the same steps in order to find the conversion rate for the treatment group."
      ]
    },
    {
      "cell_type": "code",
      "metadata": {
        "id": "2W6JLXkY1ifW"
      },
      "source": [
        "number_of_pageviews_treatment = data['Pageviews_treatment'].sum()\r\n",
        "print(number_of_pageviews_treatment)"
      ],
      "execution_count": null,
      "outputs": []
    },
    {
      "cell_type": "markdown",
      "metadata": {
        "id": "s4FdkpEY51XR"
      },
      "source": [
        "\r\n",
        "\r\n",
        "---\r\n",
        "\r\n",
        "\r\n",
        "\r\n",
        "$n_{pageviews} = 344660$\r\n",
        "\r\n",
        "\r\n",
        "---\r\n",
        "\r\n",
        "\r\n",
        "\r\n"
      ]
    },
    {
      "cell_type": "code",
      "metadata": {
        "id": "NNsAppc01g3t"
      },
      "source": [
        "number_of_clicks_treatment = data['Clicks_treatment'].sum()\r\n",
        "print(number_of_clicks_treatment)"
      ],
      "execution_count": null,
      "outputs": []
    },
    {
      "cell_type": "markdown",
      "metadata": {
        "id": "HEl7B_pT6FhV"
      },
      "source": [
        "\r\n",
        "\r\n",
        "---\r\n",
        "\r\n",
        "\r\n",
        "\r\n",
        "$n_{clicks} = 28325$\r\n",
        "\r\n",
        "---\r\n",
        "\r\n"
      ]
    },
    {
      "cell_type": "code",
      "metadata": {
        "id": "PR12x2_B6KCk"
      },
      "source": [
        "conversion_rate_treatment = number_of_clicks_treatment / number_of_pageviews_treatment\r\n",
        "print(round(conversion_rate_treatment  * 100, 3))"
      ],
      "execution_count": null,
      "outputs": []
    },
    {
      "cell_type": "markdown",
      "metadata": {
        "id": "xaV48Gs86XL8"
      },
      "source": [
        "\r\n",
        "\r\n",
        "---\r\n",
        "\r\n",
        "\r\n",
        "\r\n",
        "$conversion\\_rate_{treatment} = 8.218\\%$\r\n",
        "\r\n",
        "---\r\n",
        "\r\n"
      ]
    },
    {
      "cell_type": "markdown",
      "metadata": {
        "id": "F4worwl66hb4"
      },
      "source": [
        "Now, the difference between convension rate for control group and the conversion rate for the treatment group is below 1%:\r\n",
        "\r\n",
        "---\r\n",
        "\r\n",
        "\r\n",
        "$conversion\\_rate_{control} - conversion\\_rate_{treatment} = 0.05 \\%$\r\n",
        "\r\n",
        "\r\n",
        "---\r\n",
        "\r\n",
        "\r\n",
        "This suggests that there might be no significant difference between the control group and treatment group."
      ]
    },
    {
      "cell_type": "markdown",
      "metadata": {
        "id": "2KS_5du47j6L"
      },
      "source": [
        "## Hypothesis testing"
      ]
    },
    {
      "cell_type": "markdown",
      "metadata": {
        "id": "2Vu6nuN68Gly"
      },
      "source": [
        "\r\n",
        "We would first like to know how widely is our data distributed. For this reason we first find the standard deviation $\\sigma$ by the following formula:\r\n",
        "\r\n",
        "$\\sigma = \\sqrt{\\frac{p(1-p)}{n}}$\r\n",
        "\r\n",
        "$p$ is the conversion date we've seen to date and $n$ is the number of pageviews\r\n",
        "\r\n",
        "\r\n",
        "---\r\n",
        "\r\n",
        "\r\n",
        "\r\n",
        "Alternatively, we could have used the following:\r\n",
        "\r\n",
        "$\\sigma = \\sqrt{\\frac{\\sum(x_1 - \\mu)^2}{N - 1}}$\r\n",
        "\r\n",
        "---\r\n",
        "\r\n"
      ]
    },
    {
      "cell_type": "code",
      "metadata": {
        "id": "Pfa7CP2R-Trj"
      },
      "source": [
        "import math\r\n",
        "\r\n",
        "std1 = math.sqrt((conversion_rate_control) * (1 - conversion_rate_control)/number_of_pageviews_control)\r\n",
        "print(std1 * 100)"
      ],
      "execution_count": null,
      "outputs": []
    },
    {
      "cell_type": "markdown",
      "metadata": {
        "id": "uCVnwJkt_y7n"
      },
      "source": [
        "\r\n",
        "\r\n",
        "---\r\n",
        "\r\n",
        "\r\n",
        "Therefore,\r\n",
        "\r\n",
        "$\\sigma_{control} = 0.046\\%$\r\n",
        "\r\n",
        "\r\n",
        "\r\n",
        "---\r\n",
        "\r\n"
      ]
    },
    {
      "cell_type": "markdown",
      "metadata": {
        "id": "tJaYlkUkkAX8"
      },
      "source": [
        "Standard error $\\mathrm{SE} = \\frac{\\sigma}{\\sqrt{n}}$"
      ]
    },
    {
      "cell_type": "code",
      "metadata": {
        "id": "WUFAaqPzgozi"
      },
      "source": [
        "me = data['conversion_rate'].std() / math.sqrt(data.shape[0])\r\n",
        "\r\n",
        "me"
      ],
      "execution_count": null,
      "outputs": []
    },
    {
      "cell_type": "markdown",
      "metadata": {
        "id": "Wqgb2RzCk4cp"
      },
      "source": [
        "Margin of error $ = z{\\text -}score * \\sqrt{\\frac{\\sigma^2}{n}} = z{\\text -}score * \\frac{\\sigma}{\\sqrt{n}} = z{\\text -}score * \\mathrm{SE}$"
      ]
    },
    {
      "cell_type": "markdown",
      "metadata": {
        "id": "n3rkejRcLuy-"
      },
      "source": [
        "According to (source), \"if our metric is a percentage or a proportion, the test statistic is given by:\r\n",
        "\r\n",
        "\r\n",
        "---\r\n",
        "\r\n",
        "\r\n",
        "$Z = \\frac{\\hat{p}_{treatment} - \\hat{p}_{control}}{\\sqrt{p (1 - p)(\\frac{1}{n_{treatment}} + \\frac{1}{n_{control}})}}$\r\n",
        "\r\n",
        "\r\n",
        "---\r\n",
        "\r\n",
        "\r\n",
        "where $p$ - a combined proportion, $\\hat{p}_{control}$ is a conversion rate for control group, $\\hat{p}_{treatment}$ - a conversion rate for treatment group, $n_{control}$ - a total number of pageviews in the control group and $n_{treatment}$ - a total number of pageviews in the treatment group.\r\n"
      ]
    },
    {
      "cell_type": "markdown",
      "metadata": {
        "id": "ULqeoTrwOBcU"
      },
      "source": [
        "Our metric (*click-through-rate* *or conversion rate*) is indeed a proportion, so we are licenzed to use the formula above. In order to do so, let us first find the combined conversion rate which is given by:\r\n",
        "\r\n",
        "$p = \\frac{X_{treatment} + X_{control}}{n_{treatment} + n_{control}}$"
      ]
    },
    {
      "cell_type": "code",
      "metadata": {
        "id": "GFui_ZQGLhXl",
        "colab": {
          "base_uri": "https://localhost:8080/"
        },
        "outputId": "90ab47fd-f2d3-4c26-da65-53ac6351fe67"
      },
      "source": [
        "clicks_control = data['Clicks_control'].sum()\r\n",
        "clicks_treatment = data['Clicks_treatment'].sum()\r\n",
        "pageviews_control = data['Pageviews_control'].sum()\r\n",
        "pageviews_treatment = data['Pageviews_treatment'].sum()\r\n",
        "\r\n",
        "combined_conversion_rate = (clicks_control + clicks_treatment) / (pageviews_control + pageviews_treatment)\r\n",
        "\r\n",
        "\r\n",
        "clicks_control, clicks_treatment, pageviews_control, pageviews_treatment, combined_conversion_rate * 100\r\n"
      ],
      "execution_count": null,
      "outputs": [
        {
          "output_type": "execute_result",
          "data": {
            "text/plain": [
              "(28378, 28325, 345543, 344660, 8.215409089789526)"
            ]
          },
          "metadata": {
            "tags": []
          },
          "execution_count": 27
        }
      ]
    },
    {
      "cell_type": "markdown",
      "metadata": {
        "id": "HUSyuBiyQQhE"
      },
      "source": [
        "$p = \\frac{X_{treatment} + X_{control}}{n_{treatment} + n_{control}} \\Rightarrow \\frac{28325 + 28378}{345543 + 344660} = 8.215\\%$"
      ]
    },
    {
      "cell_type": "code",
      "metadata": {
        "id": "0LVBd0XRk34z"
      },
      "source": [
        "margin_of_error = 1.95 * se\r\n",
        "\r\n",
        "margin_of_error"
      ],
      "execution_count": null,
      "outputs": []
    },
    {
      "cell_type": "markdown",
      "metadata": {
        "id": "qvr5P38yQiv6"
      },
      "source": [
        "Recall that the conversion rates for control and treatment groups are respectively:\r\n",
        "\r\n",
        "$\\hat{p}_{control} = 8.213\\%$ and $\\hat{p}_{treatment} = 8.218\\%$"
      ]
    },
    {
      "cell_type": "markdown",
      "metadata": {
        "id": "kUlqmmEKRFSh"
      },
      "source": [
        "Therefore, "
      ]
    },
    {
      "cell_type": "code",
      "metadata": {
        "id": "vUbv3JJBRGhZ",
        "colab": {
          "base_uri": "https://localhost:8080/",
          "height": 255
        },
        "outputId": "9b939d26-fcb8-40b6-ef5f-0e3b51a34af9"
      },
      "source": [
        "import math\r\n",
        "from scipy.stats import norm\r\n",
        "\r\n",
        "z_statistic_nom = combined_conversion_rate - conversion_rate_treatment\r\n",
        "z_statistic_denom = combined_conversion_rate * (1 - combined_conversion_rate) * ((1 / number_of_pageviews_treatment) + (1 / number_of_pageviews_control))\r\n",
        "\r\n",
        "z_statistic = z_statistic_nom / math.sqrt(z_statistic_denom)\r\n",
        "\r\n",
        "\r\n",
        "2 * (1 - norm.cdf(abs(z_statistic))), conversion_rate_control, conversion_rate_treatment"
      ],
      "execution_count": null,
      "outputs": [
        {
          "output_type": "error",
          "ename": "NameError",
          "evalue": "ignored",
          "traceback": [
            "\u001b[0;31m---------------------------------------------------------------------------\u001b[0m",
            "\u001b[0;31mNameError\u001b[0m                                 Traceback (most recent call last)",
            "\u001b[0;32m<ipython-input-28-7d541aed2807>\u001b[0m in \u001b[0;36m<module>\u001b[0;34m()\u001b[0m\n\u001b[1;32m      2\u001b[0m \u001b[0;32mfrom\u001b[0m \u001b[0mscipy\u001b[0m\u001b[0;34m.\u001b[0m\u001b[0mstats\u001b[0m \u001b[0;32mimport\u001b[0m \u001b[0mnorm\u001b[0m\u001b[0;34m\u001b[0m\u001b[0;34m\u001b[0m\u001b[0m\n\u001b[1;32m      3\u001b[0m \u001b[0;34m\u001b[0m\u001b[0m\n\u001b[0;32m----> 4\u001b[0;31m \u001b[0mz_statistic_nom\u001b[0m \u001b[0;34m=\u001b[0m \u001b[0mconversion_rate_control\u001b[0m \u001b[0;34m-\u001b[0m \u001b[0mconversion_rate_treatment\u001b[0m\u001b[0;34m\u001b[0m\u001b[0;34m\u001b[0m\u001b[0m\n\u001b[0m\u001b[1;32m      5\u001b[0m \u001b[0mz_statistic_denom\u001b[0m \u001b[0;34m=\u001b[0m \u001b[0mcombined_conversion_rate\u001b[0m \u001b[0;34m*\u001b[0m \u001b[0;34m(\u001b[0m\u001b[0;36m1\u001b[0m \u001b[0;34m-\u001b[0m \u001b[0mcombined_conversion_rate\u001b[0m\u001b[0;34m)\u001b[0m \u001b[0;34m*\u001b[0m \u001b[0;34m(\u001b[0m\u001b[0;34m(\u001b[0m\u001b[0;36m1\u001b[0m \u001b[0;34m/\u001b[0m \u001b[0mnumber_of_pageviews_treatment\u001b[0m\u001b[0;34m)\u001b[0m \u001b[0;34m+\u001b[0m \u001b[0;34m(\u001b[0m\u001b[0;36m1\u001b[0m \u001b[0;34m/\u001b[0m \u001b[0mnumber_of_pageviews_control\u001b[0m\u001b[0;34m)\u001b[0m\u001b[0;34m)\u001b[0m\u001b[0;34m\u001b[0m\u001b[0;34m\u001b[0m\u001b[0m\n\u001b[1;32m      6\u001b[0m \u001b[0;34m\u001b[0m\u001b[0m\n",
            "\u001b[0;31mNameError\u001b[0m: name 'conversion_rate_control' is not defined"
          ]
        }
      ]
    },
    {
      "cell_type": "markdown",
      "metadata": {
        "id": "paSXExusVNHU"
      },
      "source": [
        "$Z = \\frac{\\hat{p}_{treatment} - \\hat{p}_{control}}{\\sqrt{p (1 - p)(\\frac{1}{n_{treatment}} + \\frac{1}{n_{control}})}} \\Rightarrow \\frac{0.08212 - 0.08218}{0.08215(1 - 0.08215)(\\frac{1}{345543} + \\frac{1}{344660})} = ?$"
      ]
    },
    {
      "cell_type": "code",
      "metadata": {
        "id": "Y2MXXWOAYWxB"
      },
      "source": [
        "round(conversion_rate_control, 3), round(conversion_rate_treatment, 3), round(conversion_rate_control - conversion_rate_treatment, 4)"
      ],
      "execution_count": null,
      "outputs": []
    },
    {
      "cell_type": "markdown",
      "metadata": {
        "id": "t8-uoQFdX9zU"
      },
      "source": [
        "Recall our observed difference: \r\n",
        "\r\n",
        "$conversion\\_rate_{control} - conversion\\_rate_{treatment} = 8.212 - 8.218 = 0.006\\%$"
      ]
    },
    {
      "cell_type": "code",
      "metadata": {
        "id": "vLiV2go0P7Xe"
      },
      "source": [
        "\r\n",
        "\r\n",
        "data['control_standard_error'] = data[['Pageviews_control', 'conversion_rate']].apply(\r\n",
        "    lambda input_arr: math.sqrt(input_arr[1] * (1 - (input_arr[1]))/input_arr[0]), axis=1\r\n",
        ")\r\n",
        "\r\n",
        "data['control_margin_of_error'] = data['standard_error'].apply(\r\n",
        "    lambda x: 1.96 * x\r\n",
        ")"
      ],
      "execution_count": null,
      "outputs": []
    },
    {
      "cell_type": "markdown",
      "metadata": {
        "id": "bsdVLF-zGxz7"
      },
      "source": [
        "###z-test"
      ]
    },
    {
      "cell_type": "markdown",
      "metadata": {
        "id": "DFWKz5hc7mqM"
      },
      "source": [
        "Let us state our state our null hypothesis more formally as follows:\r\n",
        "\r\n",
        "$H_0:$ $conversion\\_rate_{treatment} - conversion\\_rate_{control} = 0$ \r\n",
        "\r\n",
        "i. e. there is no significant difference in click-though-rate between two groups (control and treatment). What this means that that any observed difference is due to random variation."
      ]
    },
    {
      "cell_type": "markdown",
      "metadata": {
        "id": "XRhWUhDo0Uih"
      },
      "source": [
        "Since null hypothesis and the alternative hypothesis exhaust all the possibilities, our alternative hypothesis gets formulated as follows:\r\n",
        "\r\n",
        "$H_a : conversion\\_rate_{treatment} - conversion\\_rate_{control} \\neq 0$\r\n",
        "\r\n",
        "i. e. there is indeed a significant difference in click-through-rate between two groups. Alternatively, the observed difference is not due to random variation."
      ]
    },
    {
      "cell_type": "markdown",
      "metadata": {
        "id": "4krfQ0IGkoP1"
      },
      "source": [
        "Note that we only use t-test if we know the standard deviation for the population. If we do know the variance for each group and the sample size is relatively large, we use the z-test which is given by:\r\n",
        "\r\n",
        "\r\n",
        "---\r\n",
        "\r\n",
        "\r\n",
        "$Z = \\frac{\\hat{p}_{control} - \\hat{p}_{treatment} - \\Delta}{\\sqrt{\\frac{\\sigma_{control}}{n_{control}} + \\frac{\\sigma_{treament}}{n_{treatment}}}}$\r\n",
        "\r\n",
        "\r\n",
        "\r\n",
        "---\r\n",
        "\r\n",
        "where $\\hat{p}_{control}$ is a conversion rate for control group, $\\hat{p}_{treatment}$ is the conversion rate for treatment group, $\\Delta$ is the hypothesized difference between two groups, $\\sigma_{control}$ and $\\sigma_{treatment}$ are the standard deviations of the two populations"
      ]
    },
    {
      "cell_type": "markdown",
      "metadata": {
        "id": "sfVswIwHIZ-O"
      },
      "source": [
        "The formula can be further simplified since we hypothesize that $\\Delta = 0$:\r\n",
        "\r\n",
        "$Z = \\frac{\\hat{p}_{control} - \\hat{p}_{treatment}}{\\sqrt{\\frac{\\sigma_{control}}{n_{control}} + \\frac{\\sigma_{treament}}{n_{treatment}}}}$"
      ]
    },
    {
      "cell_type": "markdown",
      "metadata": {
        "id": "rMOBnwhJIvUZ"
      },
      "source": [
        "However, note that the denominator is just as in our formula for $\\mathrm{SE}$ for the difference of populations:\r\n",
        "\r\n",
        "$\\sqrt{\\frac{\\sigma_{control}}{n_{control}} + \\frac{\\sigma_{treament}}{n_{treatment}}} = \\sqrt{\\frac{\\hat{p}_{control}(1 - \\hat{p}_{control})}{n_{control}} + \\frac{\\hat{p}_{treatment}(1 - \\hat{p}_{treatment})}{n_{treatment}}} = \\mathrm{SE}$"
      ]
    },
    {
      "cell_type": "markdown",
      "metadata": {
        "id": "5xjyxvDPJuYl"
      },
      "source": [
        "Moreover, the nominator is just our observed difference $\\delta$:\r\n",
        "\r\n",
        "$\\hat{p}_{control} - \\hat{p}_{treatment} = \\delta$"
      ]
    },
    {
      "cell_type": "markdown",
      "metadata": {
        "id": "aaCSrZw8KDp_"
      },
      "source": [
        "Hence,\r\n",
        "\r\n",
        "$Z = \\frac{\\delta}{\\mathrm{SE}}$"
      ]
    },
    {
      "cell_type": "code",
      "metadata": {
        "colab": {
          "base_uri": "https://localhost:8080/"
        },
        "id": "3MuIAvEgKOfh",
        "outputId": "362bc757-3889-4781-e1f3-13bc69780350"
      },
      "source": [
        "z_statistic = observed_difference/standard_error_for_difference\r\n",
        "\r\n",
        "z_statistic"
      ],
      "execution_count": null,
      "outputs": [
        {
          "output_type": "execute_result",
          "data": {
            "text/plain": [
              "0.08566090715969284"
            ]
          },
          "metadata": {
            "tags": []
          },
          "execution_count": 29
        }
      ]
    },
    {
      "cell_type": "markdown",
      "metadata": {
        "id": "FTrxZNGrarIf"
      },
      "source": [
        "We can now compute the probability that our observed difference is due to random chance. This is what is represented by *p-value*. Two-tailed p-value is produced by the following:\r\n",
        "\r\n",
        "$2 * (1 - \\mathrm{cdf}(|Z|))$\r\n",
        "\r\n",
        "where $Z$ is our test statistic and $\\mathrm{cdf()}$ - cumulative distribution function of the distribution of the test statistic ($\\delta$) under the null hypothesis"
      ]
    },
    {
      "cell_type": "code",
      "metadata": {
        "colab": {
          "base_uri": "https://localhost:8080/"
        },
        "id": "OVbwsnyULwg6",
        "outputId": "1a53eecb-3125-4143-9079-645974059502"
      },
      "source": [
        "p_val = 2 * (1 - norm.cdf(abs(z_statistic)))\r\n",
        "\r\n",
        "p_val"
      ],
      "execution_count": null,
      "outputs": [
        {
          "output_type": "execute_result",
          "data": {
            "text/plain": [
              "0.9317359794226394"
            ]
          },
          "metadata": {
            "tags": []
          },
          "execution_count": 30
        }
      ]
    },
    {
      "cell_type": "markdown",
      "metadata": {
        "id": "6eu0pFVvMAEw"
      },
      "source": [
        "It seems that the difference we have originally observed was due to random chance with a probability of $0.93$ (aproximately). \r\n",
        "\r\n",
        "This is way larger than the *p-value* under which we would normally consider the difference to be actually significant, hence we fail to reject the null hypothesis. In other words, *it is very likely that there is no actual difference between two groups*. "
      ]
    },
    {
      "cell_type": "code",
      "metadata": {
        "colab": {
          "base_uri": "https://localhost:8080/"
        },
        "id": "dR1MMwarM9-s",
        "outputId": "977a1168-271a-4476-9f9e-26849b1a306a"
      },
      "source": [
        "from statsmodels.stats.proportion import proportions_ztest\r\n",
        "\r\n",
        "\r\n",
        "count = np.array([data['clicks'][0], data['clicks'][1]])\r\n",
        "nobs = np.array([data['pageviews'][0], data['pageviews'][1]])\r\n",
        "\r\n",
        "stat, pval = proportions_ztest(count, nobs)\r\n",
        "\r\n",
        "print('{0:0.3f}'.format(pval))"
      ],
      "execution_count": null,
      "outputs": [
        {
          "output_type": "stream",
          "text": [
            "0.932\n"
          ],
          "name": "stdout"
        }
      ]
    },
    {
      "cell_type": "markdown",
      "metadata": {
        "id": "R0YG2rGBUB2T"
      },
      "source": [
        "###t-test"
      ]
    },
    {
      "cell_type": "markdown",
      "metadata": {
        "id": "t70JJ-J2iznn"
      },
      "source": [
        "The formula for the t-test is given by:\r\n",
        "\r\n",
        "\r\n",
        "---\r\n",
        "\r\n",
        "\r\n",
        "$s^2_{pooled} = \\frac{(n_{control} - 1)(\\hat{p}_{control}(1-\\hat{p}_{control})) - (n_{treatment} - 1) \\hat{p}_{treatment} (1 - \\hat{p}_{treatment})}{n_{control} + n_{treatment} - 2}$\r\n",
        "\r\n",
        "\r\n",
        "---\r\n",
        "\r\n",
        "\r\n",
        "\r\n",
        "where $s^2_{pooled}$ is estimated pooled variance, $\\hat{p}_{treatment}$ is the conversion rate for treatment group, $\\Delta$ is the hypothesized difference between two groups, $\\sigma_{control}$ is the standard deviation for control group and $\\sigma_{treatment}$ is the standard deviation for the treatment group, i. e. the standard deviation of the two samples.\r\n",
        "\r\n",
        "Alternatively,\r\n",
        "\r\n",
        "\r\n",
        "---\r\n",
        "\r\n",
        "\r\n",
        "$T = \\frac{\\bar{x}_{control} - \\bar{x}_{treatment} - \\Delta}{\\sqrt{$s^2_{pooled}\\frac{1}{n_{control}} + \\frac{1}{n_{treatment}} }}$\r\n",
        "\r\n",
        "\r\n",
        "---\r\n",
        "\r\n",
        "\r\n"
      ]
    },
    {
      "cell_type": "code",
      "metadata": {
        "colab": {
          "base_uri": "https://localhost:8080/"
        },
        "id": "hAy2a40gUk9M",
        "outputId": "26283fdf-b9de-47de-b10a-76a2ff9a49aa"
      },
      "source": [
        "t_test_1 = (data['pageviews'][0] - 1) * (data['conversion_rate'][0] * (1 - data['conversion_rate'][0]))\r\n",
        "t_test_2 = (data['pageviews'][1] - 1) * (data['conversion_rate'][1] * (1 - data['conversion_rate'][1]))\r\n",
        "t_test_3 = data['pageviews'][0] + data['pageviews'][1] - 2 \r\n",
        "\r\n",
        "t_test_std = (t_test_1 - t_test_2)/t_test_3\r\n",
        "\r\n",
        "\r\n",
        "t_test = (data['conversion_rate'][0] - data['conversion_rate'][1])/(t_test_std * ((1/data['pageviews'][0]) + (1/data['pageviews'][1])))\r\n",
        "print(t_test)\r\n",
        "\r\n",
        "t_statistic = observed_difference * var\r\n",
        "t_statistic\r\n"
      ],
      "execution_count": null,
      "outputs": [
        {
          "output_type": "stream",
          "text": [
            "-134204.88382788992\n"
          ],
          "name": "stdout"
        },
        {
          "output_type": "execute_result",
          "data": {
            "text/plain": [
              "2.4746138018430685e-11"
            ]
          },
          "metadata": {
            "tags": []
          },
          "execution_count": 73
        }
      ]
    },
    {
      "cell_type": "code",
      "metadata": {
        "id": "Kd8EWVrHXTKH",
        "colab": {
          "base_uri": "https://localhost:8080/",
          "height": 106
        },
        "outputId": "28bf1340-a4a5-4223-ff30-460d616a13e8"
      },
      "source": [
        "data2['conversion_rate'] = data[['pageviews', 'clicks']].apply(\r\n",
        "    lambda x: (x[1]/x[0]),axis=1\r\n",
        ")\r\n",
        "\r\n",
        "data2"
      ],
      "execution_count": null,
      "outputs": [
        {
          "output_type": "execute_result",
          "data": {
            "text/html": [
              "<div>\n",
              "<style scoped>\n",
              "    .dataframe tbody tr th:only-of-type {\n",
              "        vertical-align: middle;\n",
              "    }\n",
              "\n",
              "    .dataframe tbody tr th {\n",
              "        vertical-align: top;\n",
              "    }\n",
              "\n",
              "    .dataframe thead th {\n",
              "        text-align: right;\n",
              "    }\n",
              "</style>\n",
              "<table border=\"1\" class=\"dataframe\">\n",
              "  <thead>\n",
              "    <tr style=\"text-align: right;\">\n",
              "      <th></th>\n",
              "      <th>pageviews</th>\n",
              "      <th>clicks</th>\n",
              "      <th>conversion_rate</th>\n",
              "    </tr>\n",
              "  </thead>\n",
              "  <tbody>\n",
              "    <tr>\n",
              "      <th>control</th>\n",
              "      <td>345543</td>\n",
              "      <td>28378</td>\n",
              "      <td>0.082126</td>\n",
              "    </tr>\n",
              "    <tr>\n",
              "      <th>treatment</th>\n",
              "      <td>344660</td>\n",
              "      <td>28325</td>\n",
              "      <td>0.082182</td>\n",
              "    </tr>\n",
              "  </tbody>\n",
              "</table>\n",
              "</div>"
            ],
            "text/plain": [
              "           pageviews  clicks  conversion_rate\n",
              "control       345543   28378         0.082126\n",
              "treatment     344660   28325         0.082182"
            ]
          },
          "metadata": {
            "tags": []
          },
          "execution_count": 43
        }
      ]
    },
    {
      "cell_type": "code",
      "metadata": {
        "id": "7UwQSrZZVkIM",
        "colab": {
          "base_uri": "https://localhost:8080/"
        },
        "outputId": "d196f920-9373-4b43-ac86-6060876c7952"
      },
      "source": [
        "from scipy import stats\r\n",
        "\r\n",
        "tstat, pval = stats.ttest_ind([data2['conversion_rate'][0]], [data2['conversion_rate'][0]])"
      ],
      "execution_count": null,
      "outputs": [
        {
          "output_type": "stream",
          "text": [
            "/usr/local/lib/python3.6/dist-packages/numpy/core/fromnumeric.py:3622: RuntimeWarning: Degrees of freedom <= 0 for slice\n",
            "  **kwargs)\n",
            "/usr/local/lib/python3.6/dist-packages/numpy/core/_methods.py:226: RuntimeWarning: invalid value encountered in double_scalars\n",
            "  ret = ret.dtype.type(ret / rcount)\n"
          ],
          "name": "stderr"
        }
      ]
    },
    {
      "cell_type": "markdown",
      "metadata": {
        "id": "IRH8VWjbm-GA"
      },
      "source": [
        "## Statistical significance of an alternative metric"
      ]
    },
    {
      "cell_type": "markdown",
      "metadata": {
        "id": "-qj3W73dnGzk"
      },
      "source": [
        "Let us now proceed by taking the rate of those who have chosen to enroll to any of the courses offered by Udacity, i. e. of the rate of twose who enroll to those who clicked to see the list of courses available. For our purposes, we will be looking at `Clicks_control` \\ `Enrollments_control` and `Clicks_treatment` \\ `Enrollments_treatment` respectively. "
      ]
    },
    {
      "cell_type": "markdown",
      "metadata": {
        "id": "ZaI_mJTonnH0"
      },
      "source": [
        "We will again be adding extra columns to save the values for the parameters. Let us first duplicate the original dataset so we can augment it accordingly:"
      ]
    },
    {
      "cell_type": "code",
      "metadata": {
        "id": "1ZbkT14Xbj1y",
        "colab": {
          "base_uri": "https://localhost:8080/",
          "height": 106
        },
        "outputId": "59fc76e0-dd41-4e43-abcb-0a248b222a8a"
      },
      "source": [
        "agg3 = control.groupby('group').agg(clicks=('Clicks', 'sum'), enrollments=('Enrollments', 'sum'))\r\n",
        "agg4 = treatment.groupby('group').agg(clicks=('Clicks', 'sum'), enrollments=('Enrollments', 'sum'))\r\n",
        "click_enrollment_rate = pd.merge(agg3[:23], agg4[:23], how='outer')\r\n",
        "click_enrollment_rate.index = index\r\n",
        "\r\n",
        "click_enrollment_rate.enrollments = click_enrollment_rate.enrollments.astype(int)\r\n",
        "click_enrollment_rate"
      ],
      "execution_count": null,
      "outputs": [
        {
          "output_type": "execute_result",
          "data": {
            "text/html": [
              "<div>\n",
              "<style scoped>\n",
              "    .dataframe tbody tr th:only-of-type {\n",
              "        vertical-align: middle;\n",
              "    }\n",
              "\n",
              "    .dataframe tbody tr th {\n",
              "        vertical-align: top;\n",
              "    }\n",
              "\n",
              "    .dataframe thead th {\n",
              "        text-align: right;\n",
              "    }\n",
              "</style>\n",
              "<table border=\"1\" class=\"dataframe\">\n",
              "  <thead>\n",
              "    <tr style=\"text-align: right;\">\n",
              "      <th></th>\n",
              "      <th>clicks</th>\n",
              "      <th>enrollments</th>\n",
              "    </tr>\n",
              "  </thead>\n",
              "  <tbody>\n",
              "    <tr>\n",
              "      <th>control</th>\n",
              "      <td>28378</td>\n",
              "      <td>3785</td>\n",
              "    </tr>\n",
              "    <tr>\n",
              "      <th>treatment</th>\n",
              "      <td>28325</td>\n",
              "      <td>3423</td>\n",
              "    </tr>\n",
              "  </tbody>\n",
              "</table>\n",
              "</div>"
            ],
            "text/plain": [
              "           clicks  enrollments\n",
              "control     28378         3785\n",
              "treatment   28325         3423"
            ]
          },
          "metadata": {
            "tags": []
          },
          "execution_count": 50
        }
      ]
    },
    {
      "cell_type": "markdown",
      "metadata": {
        "id": "cS_lTYI9tlgV"
      },
      "source": [
        "Note that there is a lot of empty values under the columns of `Enrollments_control` and `Enrollments_treatment`. It seems more likely that counts of those who have enrolled has stopped being recording since rather than that there were no enrollments in a series of days in both control and treatment groups. \r\n",
        "\r\n",
        "If included, all the zeroes would distort our statistics, so we opt to drop these rows:"
      ]
    },
    {
      "cell_type": "markdown",
      "metadata": {
        "id": "Ya8lGE5bplbc"
      },
      "source": [
        "Again, we first find the conversion rates. In this case we take a convert to be a person who have enrolled to the courses offered after clicking on the list of courses.\r\n",
        "\r\n",
        "$\\hat{p}_{control} = \\frac{n_{enrolled}}{n_{clicked}} = $\r\n",
        "\r\n",
        "$\\hat{p}_{treatment} = \\frac{n_{enrolled}}{n_{clicked}} = $"
      ]
    },
    {
      "cell_type": "code",
      "metadata": {
        "id": "9wgzg1mdddaY",
        "colab": {
          "base_uri": "https://localhost:8080/"
        },
        "outputId": "ee8dc234-8ac4-4b3c-fe98-af7193f6e838"
      },
      "source": [
        "count1 = np.array([click_enrollment_rate['enrollments'][0], click_enrollment_rate['enrollments'][1]])\r\n",
        "nobs1 = np.array([click_enrollment_rate['clicks'][0], click_enrollment_rate['clicks'][1]])\r\n",
        "\r\n",
        "stat1, pval1 = proportions_ztest(count1, nobs1)\r\n",
        "print('{0:0.5f}'.format(pval1))\r\n",
        "print(f\"z-statistic: {stat1}\")"
      ],
      "execution_count": null,
      "outputs": [
        {
          "output_type": "stream",
          "text": [
            "0.00001\n",
            "z-statistic: 4.478832192790076\n"
          ],
          "name": "stdout"
        }
      ]
    },
    {
      "cell_type": "code",
      "metadata": {
        "id": "lyKtPQBCnscW",
        "colab": {
          "base_uri": "https://localhost:8080/",
          "height": 106
        },
        "outputId": "977cd4ea-457a-4594-e228-7d1790f52e05"
      },
      "source": [
        "agg5 = control.groupby('group').agg(enrollments=('Enrollments', 'sum'), payments=('Payments', 'sum'))\r\n",
        "agg6 = treatment.groupby('group').agg(enrollments=('Enrollments', 'sum'), payments=('Payments', 'sum'))\r\n",
        "enrollment_payment_rate = pd.merge(agg5[:23], agg6[:23], how='outer')\r\n",
        "enrollment_payment_rate.index = index\r\n",
        "\r\n",
        "enrollment_payment_rate.enrollments = click_enrollment_rate.enrollments.astype(int)\r\n",
        "enrollment_payment_rate.payments = enrollment_payment_rate.payments.astype(int)\r\n",
        "\r\n",
        "enrollment_payment_rate"
      ],
      "execution_count": null,
      "outputs": [
        {
          "output_type": "execute_result",
          "data": {
            "text/html": [
              "<div>\n",
              "<style scoped>\n",
              "    .dataframe tbody tr th:only-of-type {\n",
              "        vertical-align: middle;\n",
              "    }\n",
              "\n",
              "    .dataframe tbody tr th {\n",
              "        vertical-align: top;\n",
              "    }\n",
              "\n",
              "    .dataframe thead th {\n",
              "        text-align: right;\n",
              "    }\n",
              "</style>\n",
              "<table border=\"1\" class=\"dataframe\">\n",
              "  <thead>\n",
              "    <tr style=\"text-align: right;\">\n",
              "      <th></th>\n",
              "      <th>enrollments</th>\n",
              "      <th>payments</th>\n",
              "    </tr>\n",
              "  </thead>\n",
              "  <tbody>\n",
              "    <tr>\n",
              "      <th>control</th>\n",
              "      <td>3785</td>\n",
              "      <td>2033</td>\n",
              "    </tr>\n",
              "    <tr>\n",
              "      <th>treatment</th>\n",
              "      <td>3423</td>\n",
              "      <td>1945</td>\n",
              "    </tr>\n",
              "  </tbody>\n",
              "</table>\n",
              "</div>"
            ],
            "text/plain": [
              "           enrollments  payments\n",
              "control           3785      2033\n",
              "treatment         3423      1945"
            ]
          },
          "metadata": {
            "tags": []
          },
          "execution_count": 55
        }
      ]
    },
    {
      "cell_type": "code",
      "metadata": {
        "id": "q1LKY441onhJ",
        "colab": {
          "base_uri": "https://localhost:8080/"
        },
        "outputId": "622744ff-b5d7-4610-8b1a-d6b512f8fa98"
      },
      "source": [
        "count2 = np.array([enrollment_payment_rate['payments'][0], enrollment_payment_rate['payments'][1]])\r\n",
        "nobs2 = np.array([enrollment_payment_rate['enrollments'][0], enrollment_payment_rate['enrollments'][1]])\r\n",
        "\r\n",
        "stat2, pval2 = proportions_ztest(count2, nobs2)\r\n",
        "print('{0:0.5f}'.format(pval2))\r\n",
        "print(f\"z-statistic: {stat2}\")"
      ],
      "execution_count": null,
      "outputs": [
        {
          "output_type": "stream",
          "text": [
            "0.00803\n",
            "z-statistic: -2.65092819003226\n"
          ],
          "name": "stdout"
        }
      ]
    },
    {
      "cell_type": "code",
      "metadata": {
        "id": "Rl2KMuJZi9xi"
      },
      "source": [
        "z_score_95 = 1.96\r\n",
        "z_score_90 = 1.645\r\n",
        "z_score_99 = 2.576\r\n",
        "z_score_60 = 0.841 "
      ],
      "execution_count": null,
      "outputs": []
    },
    {
      "cell_type": "markdown",
      "metadata": {
        "id": "vvl7GbkQ9TFI"
      },
      "source": [
        "## Requirements"
      ]
    },
    {
      "cell_type": "markdown",
      "metadata": {
        "id": "IL1sNnZd9TFI"
      },
      "source": [
        "* Visualize 95% confidence interval between control and experiment groups on [click-through rate](https://en.wikipedia.org/wiki/Click-through_rate) metric. Explain what the confidence interval means, what's the relationship with the population of a group.\n",
        "* Verify that the difference in each of the metrics between control and experiment groups is statistically significant using z-test, 95% confidence level.\n",
        "* Verify that the difference in each of the metrics between control and experiment groups is statistically significant using t-test, 95% confidence level.\n",
        "* Compare both test method results. Explain why they differ / do not differ that much and why.\n",
        "* Choose 1 method (either z or t) and explore statistical significance of any metric under different confidence levels - 60%, 90%, 95%, 99%. If conclusions about significance differ under different confidence levels, explain why.\n",
        "* Calculate p-values."
      ]
    },
    {
      "cell_type": "markdown",
      "metadata": {
        "id": "9RavVBWZ9TFI"
      },
      "source": [
        "## Evaluation Criteria"
      ]
    },
    {
      "cell_type": "markdown",
      "metadata": {
        "id": "6nVUqUPB9TFJ"
      },
      "source": [
        "- Correctness of used test methods.\n",
        "- Soundness of explanations given.\n",
        "- Adherence to the requirements."
      ]
    }
  ]
}